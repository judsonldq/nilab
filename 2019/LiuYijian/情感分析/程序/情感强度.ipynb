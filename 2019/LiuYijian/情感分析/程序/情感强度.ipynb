{
 "cells": [
  {
   "cell_type": "markdown",
   "metadata": {},
   "source": [
    "# 计算每条微博数据的得分并保存"
   ]
  },
  {
   "cell_type": "code",
   "execution_count": 6,
   "metadata": {
    "collapsed": true
   },
   "outputs": [],
   "source": [
    "\n",
    "#字符串类型\n",
    "two=[]\n",
    "three=[]\n",
    "four=[]\n",
    "five=[]\n",
    "six=[]\n",
    "seven=[]\n",
    "eight=[]\n",
    "nine=[]\n",
    "ten=[]\n",
    "eleven=[]\n",
    "twelve=[]\n",
    "\n",
    "#浮点型\n",
    "two_float=[]\n",
    "three_float=[]\n",
    "four_float=[]\n",
    "five_float=[]\n",
    "six_float=[]\n",
    "seven_float=[]\n",
    "eight_float=[]\n",
    "nine_float=[]\n",
    "ten_float=[]\n",
    "eleven_float=[]\n",
    "twelve_float=[]"
   ]
  },
  {
   "cell_type": "code",
   "execution_count": 7,
   "metadata": {},
   "outputs": [
    {
     "name": "stdout",
     "output_type": "stream",
     "text": [
      "9765\n"
     ]
    }
   ],
   "source": [
    "path1='/Users/lyj/Desktop/所有打标数据/轨道交通.txt'\n",
    "\n",
    "f1=open(path1,'r+',encoding='utf-8')\n",
    "lines1=f1.readlines()\n",
    "f1.close()\n",
    "\n",
    "print(len(lines1))\n",
    "for i in range(len(lines1)):\n",
    "    line1=(lines1[i]).strip().split()\n",
    "    if i<529:\n",
    "        two.append(line1[-2])\n",
    "        two_float.append(float(line1[-2]))\n",
    "    if i>=529 and i<1339:\n",
    "        three.append(line1[-2])\n",
    "        three_float.append(float(line1[-2]))\n",
    "    if i>=1339 and i<2716:\n",
    "        four.append(line1[-2])\n",
    "        four_float.append(float(line1[-2]))\n",
    "    if i>=2716 and i<3995:\n",
    "        five.append(line1[-2])\n",
    "        five_float.append(float(line1[-2]))\n",
    "    if i>=3995 and i<4984:\n",
    "        six.append(line1[-2])\n",
    "        six_float.append(float(line1[-2]))\n",
    "    if i>=4984 and i<6075:\n",
    "        seven.append(line1[-2])\n",
    "        seven_float.append(float(line1[-2]))\n",
    "    if i>=6075 and i<7074:\n",
    "        eight.append(line1[-2])\n",
    "        eight_float.append(float(line1[-2]))\n",
    "    if i>=7074 and i<9129:\n",
    "        nine.append(line1[-2])\n",
    "        nine_float.append(float(line1[-2]))\n",
    "    if i>=9129 and i<9415:\n",
    "        ten.append(line1[-2])\n",
    "        ten_float.append(float(line1[-2]))\n",
    "    if i>=9415 and i<9760:\n",
    "        eleven.append(line1[-2])\n",
    "        eleven_float.append(float(line1[-2]))\n",
    "    if i>=9760 and i<9765:\n",
    "        twelve.append(line1[-2])\n",
    "        twelve_float.append(float(line1[-2]))\n"
   ]
  },
  {
   "cell_type": "code",
   "execution_count": 8,
   "metadata": {},
   "outputs": [
    {
     "name": "stdout",
     "output_type": "stream",
     "text": [
      "2342\n"
     ]
    }
   ],
   "source": [
    "path2='/Users/lyj/Desktop/所有打标数据/美丽乡村.txt'\n",
    "\n",
    "f2=open(path2,'r+',encoding='utf-8')\n",
    "lines2=f2.readlines()\n",
    "f2.close()\n",
    "\n",
    "print(len(lines2))\n",
    "for j in range(len(lines2)):\n",
    "    line2=(lines2[j]).strip().split()\n",
    "    if j<85:\n",
    "        two.append(line2[-2])\n",
    "        two_float.append(float(line1[-2]))\n",
    "    if j>=85 and j<300:\n",
    "        three.append(line2[-2])\n",
    "        three_float.append(float(line1[-2]))\n",
    "    if j>=300 and j<679:\n",
    "        four.append(line2[-2])\n",
    "        four_float.append(float(line1[-2]))\n",
    "    if j>=679 and j<914:\n",
    "        five.append(line2[-2])\n",
    "        five_float.append(float(line1[-2]))\n",
    "    if j>=914 and j<1048:\n",
    "        six.append(line2[-2])\n",
    "        six_float.append(float(line1[-2]))\n",
    "    if j>=1048 and j<1222:\n",
    "        seven.append(line2[-2])\n",
    "        seven_float.append(float(line1[-2]))\n",
    "    if j>=1222 and j<1376:\n",
    "        eight.append(line2[-2])\n",
    "        eight_float.append(float(line1[-2]))\n",
    "    if j>=1376 and j<1580:\n",
    "        nine.append(line2[-2])\n",
    "        nine_float.append(float(line1[-2]))\n",
    "    if j>=1580 and j<1791:\n",
    "        ten.append(line2[-2])\n",
    "        ten_float.append(float(line1[-2]))\n",
    "    if j>=1791 and j<1956:\n",
    "        eleven.append(line2[-2])\n",
    "        eleven_float.append(float(line1[-2]))\n",
    "    if j>=1956 and j<2342:\n",
    "        twelve.append(line2[-2])\n",
    "        twelve_float.append(float(line1[-2]))\n"
   ]
  },
  {
   "cell_type": "code",
   "execution_count": 9,
   "metadata": {},
   "outputs": [
    {
     "name": "stdout",
     "output_type": "stream",
     "text": [
      "15077\n"
     ]
    }
   ],
   "source": [
    "path3='/Users/lyj/Desktop/所有打标数据/基础设施.txt'\n",
    "\n",
    "f3=open(path3,'r+',encoding='utf-8')\n",
    "lines3=f3.readlines()\n",
    "f3.close()\n",
    "\n",
    "print(len(lines3))\n",
    "for k in range(len(lines3)):\n",
    "    line3=(lines3[k]).strip().split()\n",
    "    #print(line[-2])\n",
    "    if k<666:\n",
    "        two.append(line3[-2])\n",
    "        two_float.append(float(line1[-2]))\n",
    "    if k>=666 and k<1556:\n",
    "        three.append(line3[-2])\n",
    "        three_float.append(float(line1[-2]))\n",
    "    if k>=1556 and k<2562:\n",
    "        four.append(line3[-2])\n",
    "        four_float.append(float(line1[-2]))\n",
    "    if k>=2562 and k<4022:\n",
    "        five.append(line3[-2])\n",
    "        five_float.append(float(line1[-2]))\n",
    "    if k>=4022 and k<5646:\n",
    "        six.append(line3[-2])\n",
    "        six_float.append(float(line1[-2]))\n",
    "    if k>=5646 and k<7682:\n",
    "        seven.append(line3[-2])\n",
    "        seven_float.append(float(line1[-2]))\n",
    "    if k>=7682 and k<9575:\n",
    "        eight.append(line3[-2])\n",
    "        eight_float.append(float(line1[-2]))\n",
    "    if k>=9575 and k<11146:\n",
    "        nine.append(line3[-2])\n",
    "        nine_float.append(float(line1[-2]))\n",
    "    if k>=11146 and k<11913:\n",
    "        ten.append(line3[-2])\n",
    "        ten_float.append(float(line1[-2]))\n",
    "    if k>=11913 and k<12869:\n",
    "        eleven.append(line3[-2])\n",
    "        eleven_float.append(float(line1[-2]))\n",
    "    if k>=12869 and k<15077:\n",
    "        twelve.append(line3[-2])\n",
    "        twelve_float.append(float(line1[-2]))\n",
    "\n",
    "        "
   ]
  },
  {
   "cell_type": "code",
   "execution_count": 10,
   "metadata": {
    "collapsed": true
   },
   "outputs": [],
   "source": [
    "path_save='/Users/lyj/Desktop/强度集合/4.txt'\n",
    "f_save=open(path_save,'w+',encoding='utf-8')\n",
    "f_save.write(' '.join(two))\n",
    "f_save.write('\\n')\n",
    "f_save.write(' '.join(three))\n",
    "f_save.write('\\n')\n",
    "f_save.write(' '.join(four))\n",
    "f_save.write('\\n')\n",
    "f_save.write(' '.join(five))\n",
    "f_save.write('\\n')\n",
    "f_save.write(' '.join(six))\n",
    "f_save.write('\\n')\n",
    "f_save.write(' '.join(seven))\n",
    "f_save.write('\\n')\n",
    "f_save.write(' '.join(eight))\n",
    "f_save.write('\\n')\n",
    "f_save.write(' '.join(nine))\n",
    "f_save.write('\\n')\n",
    "f_save.write(' '.join(ten))\n",
    "f_save.write('\\n')\n",
    "f_save.write(' '.join(eleven))\n",
    "f_save.write('\\n')\n",
    "f_save.write(' '.join(twelve))\n",
    "f_save.write('\\n')\n",
    "f_save.close()"
   ]
  },
  {
   "cell_type": "markdown",
   "metadata": {},
   "source": [
    "# 政协提案数和微博数的比较"
   ]
  },
  {
   "cell_type": "code",
   "execution_count": 30,
   "metadata": {},
   "outputs": [
    {
     "name": "stderr",
     "output_type": "stream",
     "text": [
      "No handles with labels found to put in legend.\n",
      "No handles with labels found to put in legend.\n",
      "/Applications/anaconda/anaconda3/lib/python3.6/site-packages/matplotlib/font_manager.py:1320: UserWarning: findfont: Font family ['sans-serif'] not found. Falling back to DejaVu Sans\n",
      "  (prop.get_family(), self.defaultFamily[fontext]))\n"
     ]
    },
    {
     "data": {
      "text/plain": [
       "<matplotlib.figure.Figure at 0x115a4a128>"
      ]
     },
     "metadata": {},
     "output_type": "display_data"
    },
    {
     "data": {
      "image/png": "[encoded data removed]",
      "text/plain": [
       "<matplotlib.figure.Figure at 0x115a4a320>"
      ]
     },
     "metadata": {},
     "output_type": "display_data"
    }
   ],
   "source": [
    "import matplotlib.pyplot as plt\n",
    "plt.rcParams['font.sans-serif']=['SimHei'] #用来正常显示中文标签 \n",
    "plt.rcParams['axes.unicode_minus']=False #用来正常显示负号\n",
    " \n",
    "name_list = ['topic_1','topic_2','topic_3','topic_4','topic_5','topic_6','topic_7','topic_8']\n",
    "num_list1 = [68,78,3,432,85,57,60,15]\n",
    "num_list2 = [30981,23044,7716,27184,19160,23977,15514,4733]\n",
    "num_list3 = [0,0,0,0,0,0,0,0]\n",
    "\n",
    "x =list(range(len(num_list1)))\n",
    "total_width, n = 0.8, 2\n",
    "width = total_width / n\n",
    " \n",
    "fig=plt.figure(dpi=150,figsize=(8,5))\n",
    "figure, ax = plt.subplots(dpi=150,figsize=(8,5))\n",
    "\n",
    "font2 = {'family' : 'Times New Roman','weight' : 'normal','size': 12}\n",
    "\n",
    "plt.tick_params(labelsize=12)\n",
    "labels = ax.get_xticklabels() + ax.get_yticklabels()\n",
    "[label.set_fontname('Times New Roman') for label in labels]\n",
    "\n",
    "plt.tick_params(labelsize=12)\n",
    "labels = ax.get_xticklabels() + ax.get_yticklabels()\n",
    "[label.set_fontname('Times New Roman') for label in labels]\n",
    "\n",
    "# ax1=fig.add_subplot(1,1,1)   \n",
    "plt.bar(x, num_list1, width=width,label='',tick_label = name_list,fc = 'b')\n",
    "plt.legend(loc=1,ncol=1)\n",
    "plt.legend(prop=font2)\n",
    "plt.xticks([0,1,2,3,4,5,6,7],\n",
    "  ['topic_1','topic_2','topic_3','topic_4','topic_5','topic_6','topic_7','topic_8'])\n",
    "for k in range(len(x)):\n",
    "    x[k] = x[k] + width\n",
    "ax2 = ax1.twinx()\n",
    "plt.bar(x, num_list3, width=width,label='CPPCC proposal',tick_label = name_list,fc = 'b')\n",
    "plt.bar(x, num_list2, width=width, label='Weibo',tick_label = name_list,fc = 'r')\n",
    "plt.legend(loc=1,ncol=1)\n",
    "plt.legend(prop=font2)\n",
    "\n",
    "#plt.yticks([0.1,0.15,0.2,0.25,0.3,0.35,0.4,0.45,0.5,0.55,0.6])\n",
    "\n",
    "# fig = plt.figure()\n",
    "#ax = fig.add_subplot(1,1,1)\n",
    "ax1.set_title(\"Comparison of the number of CPPCC proposals and the number of Weibos\",font2)\n",
    "ax1.set_xlabel(\"topic\",font2)\n",
    "ax1.set_ylabel('Number of CPPCC proposal',font2)\n",
    "ax2.set_ylabel('Number of weibo',font2)\n",
    "\n",
    "\n",
    "# plt.legend()\n",
    "plt.savefig(\"/Users/lyj/Desktop/论文图片/关注度大小/1.jpg\")\n",
    "plt.show()\n",
    "\n",
    "# fig0=plt.figure()\n",
    "# ax1=fig0.add_subplot(1,1,1)  \n",
    "# plt.plot(x,in_dist_point,'bo')\n",
    "# plt.plot(x,in_dist_point)\n",
    "# ax2 = ax1.twinx() \n",
    "# plt.plot(x,out_dist_point,'rs')\n",
    "# plt.plot(x,out_dist_point)\n",
    "\n",
    "# ax1.set_title('Intra-cluster and inter-cluster distance changes')\n",
    "# ax1.set_ylabel('The sum of distances within the cluster')\n",
    "# ax2.set_ylabel('Sum of distances between clusters')\n",
    "# ax1.set_xlabel('The number of clusters')\n",
    "# plt.show()\n"
   ]
  },
  {
   "cell_type": "code",
   "execution_count": null,
   "metadata": {
    "collapsed": true
   },
   "outputs": [],
   "source": []
  }
 ],
 "metadata": {
  "kernelspec": {
   "display_name": "Python 3",
   "language": "python",
   "name": "python3"
  },
  "language_info": {
   "codemirror_mode": {
    "name": "ipython",
    "version": 3
   },
   "file_extension": ".py",
   "mimetype": "text/x-python",
   "name": "python",
   "nbconvert_exporter": "python",
   "pygments_lexer": "ipython3",
   "version": "3.6.3"
  }
 },
 "nbformat": 4,
 "nbformat_minor": 2
}
