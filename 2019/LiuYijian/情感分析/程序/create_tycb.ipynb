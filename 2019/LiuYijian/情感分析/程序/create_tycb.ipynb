{
 "cells": [
  {
   "cell_type": "code",
   "execution_count": 2,
   "metadata": {
    "collapsed": true
   },
   "outputs": [],
   "source": [
    "# -*- coding: utf-8 -*-\n",
    "\n",
    "#添加新的停用词，做数据处理\n",
    "def predeal(filePath):\n",
    "    stopwords=[]\n",
    "    with open(filePath,'r+',encoding='utf-8') as lines:\n",
    "        a = ''\n",
    "        for line in lines:\n",
    "            a = a+line\n",
    "        a = a.replace('\\n', '')\n",
    "        #单字保存到列表中\n",
    "        for i in range(len(a)):\n",
    "            stopwords.append(a[i])\n",
    "        return stopwords\n",
    "\n",
    "#已经存在的停用词表\n",
    "def readstopwords(stopwords_path): \n",
    "    stop_single_words=[]  \n",
    "    with open(stopwords_path,'r+',encoding='utf-8') as lines:  \n",
    "        for line in lines:  \n",
    "            content=line.strip()  \n",
    "            stop_single_words.append(content) \n",
    "    return stop_single_words\n",
    "\n",
    "def save(filepath_save,stopwords):\n",
    "    with open(filepath_save,'w',encoding='utf-8') as f:\n",
    "        for word in stopwords:\n",
    "            f.write(word)\n",
    "            f.write('\\n')\n",
    "\n",
    "if __name__ == '__main__':\n",
    "    filepath1='/Users/LYJ/Desktop/项目/停用词表/tycb_symbol.txt'\n",
    "    filepath2='/Users/LYJ/Desktop/项目/停用词表/百度停用词列表（去除英文）.txt'\n",
    "    filepath_save='/Users/LYJ/Desktop/项目/停用词表/百度停用词列表（去除英文）+tycb_symbol.txt'\n",
    "\n",
    "    stopwords1=predeal(filepath1)\n",
    "    stopwords2=readstopwords(filepath2)\n",
    "    \n",
    "    stopwords1.extend(stopwords2)\n",
    "    stopwords=set(stopwords1)\n",
    "    save(filepath_save,stopwords)"
   ]
  },
  {
   "cell_type": "code",
   "execution_count": null,
   "metadata": {
    "collapsed": true
   },
   "outputs": [],
   "source": []
  }
 ],
 "metadata": {
  "kernelspec": {
   "display_name": "Python 3",
   "language": "python",
   "name": "python3"
  },
  "language_info": {
   "codemirror_mode": {
    "name": "ipython",
    "version": 3
   },
   "file_extension": ".py",
   "mimetype": "text/x-python",
   "name": "python",
   "nbconvert_exporter": "python",
   "pygments_lexer": "ipython3",
   "version": "3.6.3"
  }
 },
 "nbformat": 4,
 "nbformat_minor": 2
}
