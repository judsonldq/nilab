{
 "cells": [
  {
   "cell_type": "markdown",
   "metadata": {},
   "source": [
    "# Bystander: 视频流量模型 ——>>> 播放器缓冲状态"
   ]
  },
  {
   "cell_type": "code",
   "execution_count": 117,
   "metadata": {},
   "outputs": [],
   "source": [
    "import pandas as pd\n",
    "import numpy as np\n",
    "import matplotlib.pyplot as plt"
   ]
  },
  {
   "cell_type": "code",
   "execution_count": 118,
   "metadata": {},
   "outputs": [],
   "source": [
    "#流的输入代表了数据的无结构化传递，按照流的方式进行输入输出，数据被当成无结构的字节序或字符序列\n",
    "from io import StringIO"
   ]
  },
  {
   "cell_type": "code",
   "execution_count": 119,
   "metadata": {},
   "outputs": [],
   "source": [
    "#数据预处理、归一化。大多数机器学习算法中的梯度方法对于数据缩放和尺度都是很敏感的。\n",
    "#所以在开始跑算法之前，应该进行归一化或者标准化的操作，使得特征数据缩放到0-1的范围中。\n",
    "#数据特征缩放、归一化、标准化\n",
    "from sklearn import preprocessing"
   ]
  },
  {
   "cell_type": "code",
   "execution_count": 120,
   "metadata": {},
   "outputs": [],
   "source": [
    "#将数据随机分组为训练集和测试集\n",
    "from sklearn.cross_validation import train_test_split"
   ]
  },
  {
   "cell_type": "code",
   "execution_count": 121,
   "metadata": {},
   "outputs": [],
   "source": [
    "#交叉验证：一种充分利用样本的方法\n",
    "#k折交叉验证：将样本集随机划分为k份，k-1份作为训练集，1份为验证集。\n",
    "#依次轮换训练集和验证集k次，将验证误差最小的模型为最终模型。\n",
    "#from sklearn.cross_validation import KFold"
   ]
  },
  {
   "cell_type": "code",
   "execution_count": 122,
   "metadata": {},
   "outputs": [],
   "source": [
    "from sklearn import tree\n",
    "from sklearn.tree import DecisionTreeClassifier\n",
    "from sklearn.metrics import classification_report"
   ]
  },
  {
   "cell_type": "code",
   "execution_count": 123,
   "metadata": {},
   "outputs": [],
   "source": [
    "#管道机制实现了对全部步骤的流式化封装和管理\n",
    "from sklearn.pipeline import Pipeline"
   ]
  },
  {
   "cell_type": "code",
   "execution_count": 124,
   "metadata": {},
   "outputs": [],
   "source": [
    "#GridSearchCV，它存在的意义就是自动调参，只要把参数输进去，就能给出最优化的结果和参数\n",
    "#from sklearn.grid_search import GridSearchCV\n",
    "from sklearn.model_selection import GridSearchCV"
   ]
  },
  {
   "cell_type": "code",
   "execution_count": 125,
   "metadata": {},
   "outputs": [],
   "source": [
    "#BigBuckBuuny\n",
    "df1 = pd.read_csv('/Users/dave/Desktop/毕设数据/data/BigBuckBunny/bola-9/qoedata.csv')\n",
    "df2 = pd.read_csv('/Users/dave/Desktop/毕设数据/data/BigBuckBunny/bola-10/qoedata.csv')\n",
    "df3 = pd.read_csv('/Users/dave/Desktop/毕设数据/data/BigBuckBunny/bola-11/qoedata.csv')\n",
    "df4 = pd.read_csv('/Users/dave/Desktop/毕设数据/data/BigBuckBunny/bola-12/qoedata.csv')\n",
    "#df5 = pd.read_csv('/home/zdf/桌面/20181231/data/BigBuckBunny/bola-13/qoedata.csv')\n",
    "df6 = pd.read_csv('/Users/dave/Desktop/毕设数据/data/BigBuckBunny/bola-14/qoedata.csv')\n",
    "#df7 = pd.read_csv('/home/zdf/桌面/20181231/data/BigBuckBunny/bola-15/qoedata.csv')\n",
    "#df8 = pd.read_csv('/home/zdf/桌面/20181231/data/BigBuckBunny/bola-17/qoedata.csv')\n",
    "df9 = pd.read_csv('/Users/dave/Desktop/毕设数据/data/BigBuckBunny/bola-18/qoedata.csv')\n",
    "#df10 = pd.read_csv('/home/zdf/桌面/20181231/data/BigBuckBunny/bola-20/qoedata.csv')\n",
    "df11 = pd.read_csv('/Users/dave/Desktop/毕设数据/data/BigBuckBunny/bola-21/qoedata.csv')\n",
    "df12 = pd.read_csv('/Users/dave/Desktop/毕设数据/data/BigBuckBunny/bola-22/qoedata.csv')\n",
    "#df13 = pd.read_csv('/home/zdf/桌面/20181231/data/BigBuckBunny/bola-23/qoedata.csv')\n",
    "df14 = pd.read_csv('/Users/dave/Desktop/毕设数据/data/BigBuckBunny/bola-24/qoedata.csv')\n",
    "df15 = pd.read_csv('/Users/dave/Desktop/毕设数据/data/BigBuckBunny/bola-25/qoedata.csv')\n",
    "\n",
    "df16 = pd.read_csv('/Users/dave/Desktop/毕设数据/data/BigBuckBunny/bola-26/qoedata.csv')\n",
    "df17 = pd.read_csv('/Users/dave/Desktop/毕设数据/data/BigBuckBunny/bola-27/qoedata.csv')\n",
    "#df18 = pd.read_csv('/home/zdf/桌面/20181231/data/BigBuckBunny/bola-28/qoedata.csv')\n",
    "df19 = pd.read_csv('/Users/dave/Desktop/毕设数据/data/BigBuckBunny/bola-29/qoedata.csv')\n",
    "#df20 = pd.read_csv('/home/zdf/桌面/20181231/data/BigBuckBunny/bola-30/qoedata.csv')\n",
    "df21 = pd.read_csv('/Users/dave/Desktop/毕设数据/data/BigBuckBunny/bola-31/qoedata.csv')\n",
    "#df22 = pd.read_csv('/home/zdf/桌面/20181231/data/BigBuckBunny/bola-32/qoedata.csv')\n",
    "#df23 = pd.read_csv('/home/zdf/桌面/20181231/data/BigBuckBunny/bola-33/qoedata.csv')\n",
    "df24 = pd.read_csv('/Users/dave/Desktop/毕设数据/data/BigBuckBunny/bola-34/qoedata.csv')\n",
    "df25 = pd.read_csv('/Users/dave/Desktop/毕设数据/data/BigBuckBunny/bola-35/qoedata.csv')\n",
    "#df26 = pd.read_csv('/home/zdf/桌面/20181231/data/BigBuckBunny/bola-36/qoedata.csv')\n",
    "\n",
    "#action\n",
    "df27 = pd.read_csv('/Users/dave/Desktop/毕设数据/data/action/action-1/qoedata.csv')\n",
    "df28 = pd.read_csv('/Users/dave/Desktop/毕设数据/data/action/action-2/qoedata.csv')\n",
    "df29 = pd.read_csv('/Users/dave/Desktop/毕设数据/data/action/action-3/qoedata.csv')\n",
    "df30 = pd.read_csv('/Users/dave/Desktop/毕设数据/data/action/action-4/qoedata.csv')\n",
    "df31 = pd.read_csv('/Users/dave/Desktop/毕设数据/data/action/action-7/qoedata.csv')\n",
    "\n",
    "#doc\n",
    "df32 = pd.read_csv('//Users/dave/Desktop/毕设数据/data/doc/doc-2/qoedata.csv')\n",
    "df33 = pd.read_csv('/Users/dave/Desktop/毕设数据/data/doc/doc-4/qoedata.csv')\n",
    "df34 = pd.read_csv('/Users/dave/Desktop/毕设数据/data/doc/doc-5/qoedata.csv')\n",
    "df35 = pd.read_csv('/Users/dave/Desktop/毕设数据/data/doc/doc-6/qoedata.csv')\n",
    "df36 = pd.read_csv('//Users/dave/Desktop/毕设数据/data/doc/doc-7/qoedata.csv')\n",
    "\n",
    "#dream\n",
    "df37 = pd.read_csv('/Users/dave/Desktop/毕设数据/data/dream/dream-1/qoedata.csv')\n",
    "df38 = pd.read_csv('/Users/dave/Desktop/毕设数据/data/dream/dream-3/qoedata.csv')\n",
    "df39 = pd.read_csv('/Users/dave/Desktop/毕设数据/data/dream/dream-4/qoedata.csv')\n",
    "df40 = pd.read_csv('/Users/dave/Desktop/毕设数据/data/dream/dream-5/qoedata.csv')\n",
    "\n",
    "#flower\n",
    "df41 = pd.read_csv('/Users/dave/Desktop/毕设数据/data/flower/flower-2/qoedata.csv')\n",
    "df42 = pd.read_csv('/Users/dave/Desktop/毕设数据/data/flower/flower-3/qoedata.csv')\n",
    "df43 = pd.read_csv('/Users/dave/Desktop/毕设数据/data/flower/flower-4/qoedata.csv')\n",
    "df44 = pd.read_csv('/Users/dave/Desktop/毕设数据/data/flower/flower-6/qoedata.csv')\n",
    "\n",
    "#future\n",
    "#df45 = pd.read_csv('/home/zdf/桌面/20181231/data/future/future-1/qoedata.csv')\n",
    "#df46 = pd.read_csv('/home/zdf/桌面/20181231/data/future/future-2/qoedata.csv')\n",
    "#df47 = pd.read_csv('/home/zdf/桌面/20181231/data/future/future-3/qoedata.csv')\n",
    "#df48 = pd.read_csv('/home/zdf/桌面/20181231/data/future/future-4/qoedata.csv')\n",
    "df49 = pd.read_csv('/Users/dave/Desktop/毕设数据/data/future/future-5/qoedata.csv')\n",
    "df50 = pd.read_csv('/Users/dave/Desktop/毕设数据/data/future/future-6/qoedata.csv')\n",
    "df51 = pd.read_csv('/Users/dave/Desktop/毕设数据/data/future/future-7/qoedata.csv')\n",
    "df52 = pd.read_csv('/Users/dave/Desktop/毕设数据/data/future/future-8/qoedata.csv')\n",
    "\n",
    "#tv\n",
    "df53 = pd.read_csv('/Users/dave/Desktop/毕设数据/data/tv/tv-1/qoedata.csv')\n",
    "df54 = pd.read_csv('/Users/dave/Desktop/毕设数据/data/tv/tv-2/qoedata.csv')\n",
    "df55 = pd.read_csv('/Users/dave/Desktop/毕设数据/data/tv/tv-3/qoedata.csv')"
   ]
  },
  {
   "cell_type": "code",
   "execution_count": 126,
   "metadata": {},
   "outputs": [],
   "source": [
    "df  = pd.concat([df1,df2,df3,df4,df6,df9,\n",
    "                 df11,df12,df14,df15,df16,df17,df19,\n",
    "                 df21,df24,df27,df28,df29,df30,\n",
    "                 df31,df32,df33,df34,df35,df36,df37,df38,df39,df40,\n",
    "                 df41,df42,df43,df44], axis = 0)"
   ]
  },
  {
   "cell_type": "code",
   "execution_count": 127,
   "metadata": {},
   "outputs": [
    {
     "name": "stdout",
     "output_type": "stream",
     "text": [
      "61120\n"
     ]
    }
   ],
   "source": [
    "print(len(df))"
   ]
  },
  {
   "cell_type": "code",
   "execution_count": 128,
   "metadata": {},
   "outputs": [],
   "source": [
    "df = df[df.state4 != 0]"
   ]
  },
  {
   "cell_type": "code",
   "execution_count": 129,
   "metadata": {},
   "outputs": [
    {
     "name": "stdout",
     "output_type": "stream",
     "text": [
      "61042\n"
     ]
    }
   ],
   "source": [
    "print(len(df))"
   ]
  },
  {
   "cell_type": "code",
   "execution_count": 130,
   "metadata": {},
   "outputs": [],
   "source": [
    "df.to_csv(\"/Users/dave/Desktop/毕设数据/data/df-new.csv\")"
   ]
  },
  {
   "cell_type": "code",
   "execution_count": 131,
   "metadata": {},
   "outputs": [
    {
     "data": {
      "text/html": [
       "<div>\n",
       "<style>\n",
       "    .dataframe thead tr:only-child th {\n",
       "        text-align: right;\n",
       "    }\n",
       "\n",
       "    .dataframe thead th {\n",
       "        text-align: left;\n",
       "    }\n",
       "\n",
       "    .dataframe tbody tr th {\n",
       "        vertical-align: top;\n",
       "    }\n",
       "</style>\n",
       "<table border=\"1\" class=\"dataframe\">\n",
       "  <thead>\n",
       "    <tr style=\"text-align: right;\">\n",
       "      <th></th>\n",
       "      <th>Unnamed: 0</th>\n",
       "      <th>state4</th>\n",
       "      <th>state3</th>\n",
       "      <th>reqInterTime</th>\n",
       "      <th>downTraffic</th>\n",
       "      <th>downTrafficDiff</th>\n",
       "      <th>downTrafficDiffAbs</th>\n",
       "    </tr>\n",
       "  </thead>\n",
       "  <tbody>\n",
       "    <tr>\n",
       "      <th>100</th>\n",
       "      <td>100</td>\n",
       "      <td>2</td>\n",
       "      <td>2</td>\n",
       "      <td>4.52282</td>\n",
       "      <td>1971522</td>\n",
       "      <td>340965</td>\n",
       "      <td>340965</td>\n",
       "    </tr>\n",
       "    <tr>\n",
       "      <th>101</th>\n",
       "      <td>101</td>\n",
       "      <td>2</td>\n",
       "      <td>2</td>\n",
       "      <td>4.52282</td>\n",
       "      <td>1971522</td>\n",
       "      <td>340965</td>\n",
       "      <td>340965</td>\n",
       "    </tr>\n",
       "    <tr>\n",
       "      <th>102</th>\n",
       "      <td>102</td>\n",
       "      <td>2</td>\n",
       "      <td>2</td>\n",
       "      <td>4.52282</td>\n",
       "      <td>1971522</td>\n",
       "      <td>340965</td>\n",
       "      <td>340965</td>\n",
       "    </tr>\n",
       "    <tr>\n",
       "      <th>103</th>\n",
       "      <td>103</td>\n",
       "      <td>2</td>\n",
       "      <td>2</td>\n",
       "      <td>4.52282</td>\n",
       "      <td>1971522</td>\n",
       "      <td>340965</td>\n",
       "      <td>340965</td>\n",
       "    </tr>\n",
       "    <tr>\n",
       "      <th>104</th>\n",
       "      <td>104</td>\n",
       "      <td>2</td>\n",
       "      <td>2</td>\n",
       "      <td>4.52282</td>\n",
       "      <td>1971522</td>\n",
       "      <td>340965</td>\n",
       "      <td>340965</td>\n",
       "    </tr>\n",
       "  </tbody>\n",
       "</table>\n",
       "</div>"
      ],
      "text/plain": [
       "     Unnamed: 0  state4  state3  reqInterTime  downTraffic  downTrafficDiff  \\\n",
       "100         100       2       2       4.52282      1971522           340965   \n",
       "101         101       2       2       4.52282      1971522           340965   \n",
       "102         102       2       2       4.52282      1971522           340965   \n",
       "103         103       2       2       4.52282      1971522           340965   \n",
       "104         104       2       2       4.52282      1971522           340965   \n",
       "\n",
       "     downTrafficDiffAbs  \n",
       "100              340965  \n",
       "101              340965  \n",
       "102              340965  \n",
       "103              340965  \n",
       "104              340965  "
      ]
     },
     "execution_count": 131,
     "metadata": {},
     "output_type": "execute_result"
    }
   ],
   "source": [
    "df[100:105]"
   ]
  },
  {
   "cell_type": "code",
   "execution_count": 132,
   "metadata": {},
   "outputs": [],
   "source": [
    "#DecisionTreeClassifier将输入两个数组：数组X，稀疏或密集，大小为[n_samples，n_features]，保存训练样本。\n",
    "#以及整数值的数组Y，大小[n_samples]，持有类标签 训练样本\n",
    "#从原数据表中提取一部分字段作为我们的特征X,对特征X进行OneHot编码。\n",
    "X = df[['reqInterTime','downTraffic','downTrafficDiff','downTrafficDiffAbs']]\n",
    "y = df['state4']\n",
    "#y = df['state3']"
   ]
  },
  {
   "cell_type": "code",
   "execution_count": 133,
   "metadata": {},
   "outputs": [],
   "source": [
    "# 标签转化\n",
    "y = np.array(list(y))\n",
    "#y = preprocessing.label_binarize(y, classes = [1,2,3,4])\n",
    "#y = preprocessing.label_binarize(y, classes = [1,2,3])"
   ]
  },
  {
   "cell_type": "code",
   "execution_count": 134,
   "metadata": {},
   "outputs": [],
   "source": [
    "#list和array的区别：array既可以通过索引值查找数据，也能够对整个数组进行数值运算。\n",
    "#list无法对整个列表进行数值运算\n",
    "\n",
    "#转换格式，制造样本集\n",
    "#按照行遍历X表格，每次取一行转换为list格式，依次添加到样本点列表中\n",
    "#然后将样本点列表转换为数组格式\n",
    "\n",
    "samples = []\n",
    "for i in range(len(X)):\n",
    "    samples.append(list(X.iloc[i]))\n",
    "samples = np.array(samples)"
   ]
  },
  {
   "cell_type": "code",
   "execution_count": 135,
   "metadata": {},
   "outputs": [],
   "source": [
    "#数据归一化，缩放特征数据\n",
    "samples = preprocessing.normalize(samples)\n",
    "samples = samples.astype('float32')"
   ]
  },
  {
   "cell_type": "code",
   "execution_count": 136,
   "metadata": {},
   "outputs": [],
   "source": [
    "X_train, X_test, y_train, y_test = train_test_split(samples, y, test_size=0.3, random_state=0)"
   ]
  },
  {
   "cell_type": "code",
   "execution_count": 137,
   "metadata": {},
   "outputs": [
    {
     "name": "stdout",
     "output_type": "stream",
     "text": [
      "             precision    recall  f1-score   support\n",
      "\n",
      "          1       0.81      0.95      0.87      1166\n",
      "          2       0.99      0.94      0.97     15413\n",
      "          3       0.64      0.85      0.73      1133\n",
      "          4       0.71      0.94      0.81       601\n",
      "\n",
      "avg / total       0.95      0.94      0.94     18313\n",
      "\n"
     ]
    }
   ],
   "source": [
    "from sklearn.ensemble import RandomForestClassifier\n",
    "from sklearn.model_selection import ShuffleSplit\n",
    "from sklearn.model_selection import cross_val_score\n",
    "rf0 = RandomForestClassifier(\n",
    "                                bootstrap=True, \n",
    "                                class_weight='balanced', \n",
    "                                criterion='gini',\n",
    "                                max_depth=None, \n",
    "                                max_features='auto', \n",
    "                                max_leaf_nodes=None,\n",
    "                                min_impurity_decrease=0.0, \n",
    "                                min_impurity_split=None,\n",
    "                                min_samples_leaf=1, \n",
    "                                min_samples_split=2,\n",
    "                                min_weight_fraction_leaf=0.0, \n",
    "                                n_estimators=10, \n",
    "                                n_jobs=1,\n",
    "                                oob_score=False, \n",
    "                                random_state=0, \n",
    "                                verbose=0, \n",
    "                                warm_start=False\n",
    "                            )\n",
    "rf0.fit(X_train, y_train)\n",
    "y_pred = rf0.predict(X_test)\n",
    "print(classification_report(y_test, y_pred))"
   ]
  },
  {
   "cell_type": "code",
   "execution_count": 108,
   "metadata": {},
   "outputs": [
    {
     "name": "stdout",
     "output_type": "stream",
     "text": [
      "[[ 1103    33    12    18]\n",
      " [  234 14545   509   125]\n",
      " [    9    76   960    88]\n",
      " [   14     3    19   565]]\n"
     ]
    }
   ],
   "source": [
    "from sklearn .metrics import confusion_matrix\n",
    "conmat = confusion_matrix(y_true = y_test, y_pred = y_pred)\n",
    "print(conmat)\n",
    "#print(confusion_matrix(y_test.argmax(axis=1), y_pred.argmax(axis=1)))"
   ]
  },
  {
   "cell_type": "code",
   "execution_count": null,
   "metadata": {},
   "outputs": [],
   "source": [
    "\n"
   ]
  }
 ],
 "metadata": {
  "kernelspec": {
   "display_name": "Python 3",
   "language": "python",
   "name": "python3"
  },
  "language_info": {
   "codemirror_mode": {
    "name": "ipython",
    "version": 3
   },
   "file_extension": ".py",
   "mimetype": "text/x-python",
   "name": "python",
   "nbconvert_exporter": "python",
   "pygments_lexer": "ipython3",
   "version": "3.6.3"
  }
 },
 "nbformat": 4,
 "nbformat_minor": 2
}
