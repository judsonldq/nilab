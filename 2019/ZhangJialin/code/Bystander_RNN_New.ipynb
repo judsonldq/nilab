{
 "cells": [
  {
   "cell_type": "code",
   "execution_count": 506,
   "metadata": {},
   "outputs": [],
   "source": [
    "import matplotlib.pyplot as plt\n",
    "import math\n",
    "import numpy as np\n",
    "import pandas as pd\n",
    "import keras\n",
    "from keras.models import Sequential\n",
    "from keras.layers import Dense, Embedding\n",
    "from keras.layers import LSTM\n",
    "from keras.utils import np_utils\n",
    "from keras.layers.core import Dense, Dropout, Activation\n",
    "#from keras.layers import Flatten\n",
    "#from sklearn.metrics import roc_auc_score\n",
    "#from io import StringIO\n",
    "from sklearn import preprocessing\n",
    "from sklearn.pipeline import Pipeline\n",
    "from sklearn.model_selection import GridSearchCV\n",
    "from sklearn.metrics import classification_report\n",
    "import keras_metrics"
   ]
  },
  {
   "cell_type": "markdown",
   "metadata": {},
   "source": [
    "# 载入数据"
   ]
  },
  {
   "cell_type": "code",
   "execution_count": 507,
   "metadata": {},
   "outputs": [],
   "source": [
    "#BigBuckBuuny\n",
    "df1 = pd.read_csv('/home/zdf/桌面/20181231/data/BigBuckBunny/bola-9/qoedata.csv')\n",
    "df2 = pd.read_csv('/home/zdf/桌面/20181231/data/BigBuckBunny/bola-10/qoedata.csv')\n",
    "df3 = pd.read_csv('/home/zdf/桌面/20181231/data/BigBuckBunny/bola-11/qoedata.csv')\n",
    "df4 = pd.read_csv('/home/zdf/桌面/20181231/data/BigBuckBunny/bola-12/qoedata.csv')\n",
    "#df5 = pd.read_csv('/home/zdf/桌面/20181231/data/BigBuckBunny/bola-13/qoedata.csv')\n",
    "df6 = pd.read_csv('/home/zdf/桌面/20181231/data/BigBuckBunny/bola-14/qoedata.csv')\n",
    "#df7 = pd.read_csv('/home/zdf/桌面/20181231/data/BigBuckBunny/bola-15/qoedata.csv')\n",
    "#df8 = pd.read_csv('/home/zdf/桌面/20181231/data/BigBuckBunny/bola-17/qoedata.csv')\n",
    "df9 = pd.read_csv('/home/zdf/桌面/20181231/data/BigBuckBunny/bola-18/qoedata.csv')\n",
    "#df10 = pd.read_csv('/home/zdf/桌面/20181231/data/BigBuckBunny/bola-20/qoedata.csv')\n",
    "df11 = pd.read_csv('/home/zdf/桌面/20181231/data/BigBuckBunny/bola-21/qoedata.csv')\n",
    "df12 = pd.read_csv('/home/zdf/桌面/20181231/data/BigBuckBunny/bola-22/qoedata.csv')\n",
    "#df13 = pd.read_csv('/home/zdf/桌面/20181231/data/BigBuckBunny/bola-23/qoedata.csv')\n",
    "df14 = pd.read_csv('/home/zdf/桌面/20181231/data/BigBuckBunny/bola-24/qoedata.csv')\n",
    "df15 = pd.read_csv('/home/zdf/桌面/20181231/data/BigBuckBunny/bola-25/qoedata.csv')\n",
    "\n",
    "df16 = pd.read_csv('/home/zdf/桌面/20181231/data/BigBuckBunny/bola-26/qoedata.csv')\n",
    "df17 = pd.read_csv('/home/zdf/桌面/20181231/data/BigBuckBunny/bola-27/qoedata.csv')\n",
    "#df18 = pd.read_csv('/home/zdf/桌面/20181231/data/BigBuckBunny/bola-28/qoedata.csv')\n",
    "df19 = pd.read_csv('/home/zdf/桌面/20181231/data/BigBuckBunny/bola-29/qoedata.csv')\n",
    "#df20 = pd.read_csv('/home/zdf/桌面/20181231/data/BigBuckBunny/bola-30/qoedata.csv')\n",
    "df21 = pd.read_csv('/home/zdf/桌面/20181231/data/BigBuckBunny/bola-31/qoedata.csv')\n",
    "#df22 = pd.read_csv('/home/zdf/桌面/20181231/data/BigBuckBunny/bola-32/qoedata.csv')\n",
    "#df23 = pd.read_csv('/home/zdf/桌面/20181231/data/BigBuckBunny/bola-33/qoedata.csv')\n",
    "df24 = pd.read_csv('/home/zdf/桌面/20181231/data/BigBuckBunny/bola-34/qoedata.csv')\n",
    "df25 = pd.read_csv('/home/zdf/桌面/20181231/data/BigBuckBunny/bola-35/qoedata.csv')\n",
    "#df26 = pd.read_csv('/home/zdf/桌面/20181231/data/BigBuckBunny/bola-36/qoedata.csv')\n",
    "\n",
    "#action\n",
    "df27 = pd.read_csv('/home/zdf/桌面/20181231/data/action/action-1/qoedata.csv')\n",
    "df28 = pd.read_csv('/home/zdf/桌面/20181231/data/action/action-2/qoedata.csv')\n",
    "df29 = pd.read_csv('/home/zdf/桌面/20181231/data/action/action-3/qoedata.csv')\n",
    "df30 = pd.read_csv('/home/zdf/桌面/20181231/data/action/action-4/qoedata.csv')\n",
    "df31 = pd.read_csv('/home/zdf/桌面/20181231/data/action/action-7/qoedata.csv')\n",
    "\n",
    "#doc\n",
    "df32 = pd.read_csv('/home/zdf/桌面/20181231/data/doc/doc-2/qoedata.csv')\n",
    "df33 = pd.read_csv('/home/zdf/桌面/20181231/data/doc/doc-4/qoedata.csv')\n",
    "df34 = pd.read_csv('/home/zdf/桌面/20181231/data/doc/doc-5/qoedata.csv')\n",
    "df35 = pd.read_csv('/home/zdf/桌面/20181231/data/doc/doc-6/qoedata.csv')\n",
    "df36 = pd.read_csv('/home/zdf/桌面/20181231/data/doc/doc-7/qoedata.csv')\n",
    "\n",
    "#dream\n",
    "df37 = pd.read_csv('/home/zdf/桌面/20181231/data/dream/dream-1/qoedata.csv')\n",
    "df38 = pd.read_csv('/home/zdf/桌面/20181231/data/dream/dream-3/qoedata.csv')\n",
    "df39 = pd.read_csv('/home/zdf/桌面/20181231/data/dream/dream-4/qoedata.csv')\n",
    "df40 = pd.read_csv('/home/zdf/桌面/20181231/data/dream/dream-5/qoedata.csv')\n",
    "\n",
    "#flower\n",
    "df41 = pd.read_csv('/home/zdf/桌面/20181231/data/flower/flower-2/qoedata.csv')\n",
    "df42 = pd.read_csv('/home/zdf/桌面/20181231/data/flower/flower-3/qoedata.csv')\n",
    "df43 = pd.read_csv('/home/zdf/桌面/20181231/data/flower/flower-4/qoedata.csv')\n",
    "df44 = pd.read_csv('/home/zdf/桌面/20181231/data/flower/flower-6/qoedata.csv')\n",
    "\n",
    "#future\n",
    "#df45 = pd.read_csv('/home/zdf/桌面/20181231/data/future/future-1/qoedata.csv')\n",
    "#df46 = pd.read_csv('/home/zdf/桌面/20181231/data/future/future-2/qoedata.csv')\n",
    "#df47 = pd.read_csv('/home/zdf/桌面/20181231/data/future/future-3/qoedata.csv')\n",
    "#df48 = pd.read_csv('/home/zdf/桌面/20181231/data/future/future-4/qoedata.csv')\n",
    "df49 = pd.read_csv('/home/zdf/桌面/20181231/data/future/future-5/qoedata.csv')\n",
    "df50 = pd.read_csv('/home/zdf/桌面/20181231/data/future/future-6/qoedata.csv')\n",
    "df51 = pd.read_csv('/home/zdf/桌面/20181231/data/future/future-7/qoedata.csv')\n",
    "df52 = pd.read_csv('/home/zdf/桌面/20181231/data/future/future-8/qoedata.csv')\n",
    "\n",
    "#tv\n",
    "df53 = pd.read_csv('/home/zdf/桌面/20181231/data/tv/tv-1/qoedata.csv')\n",
    "df54 = pd.read_csv('/home/zdf/桌面/20181231/data/tv/tv-2/qoedata.csv')\n",
    "df55 = pd.read_csv('/home/zdf/桌面/20181231/data/tv/tv-3/qoedata.csv')"
   ]
  },
  {
   "cell_type": "code",
   "execution_count": 508,
   "metadata": {},
   "outputs": [],
   "source": [
    "df = pd.concat([df1,df2,df3,df4,df6,df9,\n",
    "                 df11,df12,df14,df15,df16,df17,df19,\n",
    "                 df21,df24,\n",
    "               df27,df28,df29,df30,df31,df32,\n",
    "                 df33,df34,df35,df36,df37,df38,df39,\n",
    "                 df40,df41,df42,df43,df44,df49,df50,\n",
    "                 df51,df52,df53,df54,df55], axis = 0)\n",
    "'''\n",
    "df25 = pd.concat([df27,df28,df29,df30,df31,df32,\n",
    "                 df33,df34,df35,df36,df37,df38,\n",
    "                 df40,df41,df42,df43,df44,df49,df50,\n",
    "                 df51,df52,df53,df54,df55], axis = 0)\n",
    "'''\n",
    "df = df[df.state4 != 0]\n",
    "df25 = pd.read_csv('/home/zdf/桌面/20181231/data/BigBuckBunny/bola-35/qoedata.csv')\n",
    "df25 = df25[df25.state4 != 0]\n",
    "\n",
    "del df['Unnamed: 0']\n",
    "del df25['Unnamed: 0']"
   ]
  },
  {
   "cell_type": "code",
   "execution_count": 509,
   "metadata": {},
   "outputs": [
    {
     "data": {
      "text/html": [
       "<div>\n",
       "<style scoped>\n",
       "    .dataframe tbody tr th:only-of-type {\n",
       "        vertical-align: middle;\n",
       "    }\n",
       "\n",
       "    .dataframe tbody tr th {\n",
       "        vertical-align: top;\n",
       "    }\n",
       "\n",
       "    .dataframe thead th {\n",
       "        text-align: right;\n",
       "    }\n",
       "</style>\n",
       "<table border=\"1\" class=\"dataframe\">\n",
       "  <thead>\n",
       "    <tr style=\"text-align: right;\">\n",
       "      <th></th>\n",
       "      <th>state4</th>\n",
       "      <th>state3</th>\n",
       "      <th>reqInterTime</th>\n",
       "      <th>downTraffic</th>\n",
       "      <th>downTrafficDiff</th>\n",
       "      <th>downTrafficDiffAbs</th>\n",
       "    </tr>\n",
       "  </thead>\n",
       "  <tbody>\n",
       "    <tr>\n",
       "      <th>0</th>\n",
       "      <td>1</td>\n",
       "      <td>1</td>\n",
       "      <td>0.0</td>\n",
       "      <td>101363</td>\n",
       "      <td>101363</td>\n",
       "      <td>101363</td>\n",
       "    </tr>\n",
       "  </tbody>\n",
       "</table>\n",
       "</div>"
      ],
      "text/plain": [
       "   state4  state3  reqInterTime  downTraffic  downTrafficDiff  \\\n",
       "0       1       1           0.0       101363           101363   \n",
       "\n",
       "   downTrafficDiffAbs  \n",
       "0              101363  "
      ]
     },
     "execution_count": 509,
     "metadata": {},
     "output_type": "execute_result"
    }
   ],
   "source": [
    "df[0:1]"
   ]
  },
  {
   "cell_type": "code",
   "execution_count": 510,
   "metadata": {},
   "outputs": [
    {
     "data": {
      "text/html": [
       "<div>\n",
       "<style scoped>\n",
       "    .dataframe tbody tr th:only-of-type {\n",
       "        vertical-align: middle;\n",
       "    }\n",
       "\n",
       "    .dataframe tbody tr th {\n",
       "        vertical-align: top;\n",
       "    }\n",
       "\n",
       "    .dataframe thead th {\n",
       "        text-align: right;\n",
       "    }\n",
       "</style>\n",
       "<table border=\"1\" class=\"dataframe\">\n",
       "  <thead>\n",
       "    <tr style=\"text-align: right;\">\n",
       "      <th></th>\n",
       "      <th>state4</th>\n",
       "      <th>state3</th>\n",
       "      <th>reqInterTime</th>\n",
       "      <th>downTraffic</th>\n",
       "      <th>downTrafficDiff</th>\n",
       "      <th>downTrafficDiffAbs</th>\n",
       "    </tr>\n",
       "  </thead>\n",
       "  <tbody>\n",
       "    <tr>\n",
       "      <th>0</th>\n",
       "      <td>1</td>\n",
       "      <td>1</td>\n",
       "      <td>0.0</td>\n",
       "      <td>252044</td>\n",
       "      <td>252044</td>\n",
       "      <td>252044</td>\n",
       "    </tr>\n",
       "  </tbody>\n",
       "</table>\n",
       "</div>"
      ],
      "text/plain": [
       "   state4  state3  reqInterTime  downTraffic  downTrafficDiff  \\\n",
       "0       1       1           0.0       252044           252044   \n",
       "\n",
       "   downTrafficDiffAbs  \n",
       "0              252044  "
      ]
     },
     "execution_count": 510,
     "metadata": {},
     "output_type": "execute_result"
    }
   ],
   "source": [
    "df25[0:1]"
   ]
  },
  {
   "cell_type": "markdown",
   "metadata": {},
   "source": [
    "# 将特征进行归一化"
   ]
  },
  {
   "cell_type": "code",
   "execution_count": 511,
   "metadata": {},
   "outputs": [],
   "source": [
    "df_scaled = preprocessing.normalize(df[['reqInterTime','downTraffic','downTrafficDiff','downTrafficDiffAbs']])\n",
    "df25_scaled = preprocessing.normalize(df25[['reqInterTime','downTraffic','downTrafficDiff','downTrafficDiffAbs']])\n",
    "\n",
    "df_train = pd.DataFrame(df_scaled, columns = ['reqInterTime','downTraffic','downTrafficDiff','downTrafficDiffAbs']) \n",
    "df_test = pd.DataFrame(df25_scaled, columns = ['reqInterTime','downTraffic','downTrafficDiff','downTrafficDiffAbs']) \n",
    "df_train['label'] = list(df['state4'])\n",
    "df_test['label'] = list(df25['state4'])\n",
    "\n",
    "cols = list(df_train)\n",
    "cols.insert(0, cols.pop(cols.index('label')))\n",
    "df_train = df_train.loc[:, cols]\n",
    "\n",
    "cols = list(df_test)\n",
    "cols.insert(0, cols.pop(cols.index('label')))\n",
    "df_test = df_test.loc[:, cols]\n",
    "\n",
    "#df_train['label'] = df_train['label'].replace([1,2,3,4],[0.1,0.2,0.3,0.4])\n",
    "#df_test['label'] = df_test['label'].replace([1,2,3,4],[0.1,0.2,0.3,0.4])"
   ]
  },
  {
   "cell_type": "code",
   "execution_count": 512,
   "metadata": {},
   "outputs": [
    {
     "data": {
      "text/html": [
       "<div>\n",
       "<style scoped>\n",
       "    .dataframe tbody tr th:only-of-type {\n",
       "        vertical-align: middle;\n",
       "    }\n",
       "\n",
       "    .dataframe tbody tr th {\n",
       "        vertical-align: top;\n",
       "    }\n",
       "\n",
       "    .dataframe thead th {\n",
       "        text-align: right;\n",
       "    }\n",
       "</style>\n",
       "<table border=\"1\" class=\"dataframe\">\n",
       "  <thead>\n",
       "    <tr style=\"text-align: right;\">\n",
       "      <th></th>\n",
       "      <th>label</th>\n",
       "      <th>reqInterTime</th>\n",
       "      <th>downTraffic</th>\n",
       "      <th>downTrafficDiff</th>\n",
       "      <th>downTrafficDiffAbs</th>\n",
       "    </tr>\n",
       "  </thead>\n",
       "  <tbody>\n",
       "    <tr>\n",
       "      <th>0</th>\n",
       "      <td>1</td>\n",
       "      <td>0.0</td>\n",
       "      <td>0.57735</td>\n",
       "      <td>0.57735</td>\n",
       "      <td>0.57735</td>\n",
       "    </tr>\n",
       "  </tbody>\n",
       "</table>\n",
       "</div>"
      ],
      "text/plain": [
       "   label  reqInterTime  downTraffic  downTrafficDiff  downTrafficDiffAbs\n",
       "0      1           0.0      0.57735          0.57735             0.57735"
      ]
     },
     "execution_count": 512,
     "metadata": {},
     "output_type": "execute_result"
    }
   ],
   "source": [
    "df_train[0:1]"
   ]
  },
  {
   "cell_type": "code",
   "execution_count": 513,
   "metadata": {},
   "outputs": [
    {
     "data": {
      "text/html": [
       "<div>\n",
       "<style scoped>\n",
       "    .dataframe tbody tr th:only-of-type {\n",
       "        vertical-align: middle;\n",
       "    }\n",
       "\n",
       "    .dataframe tbody tr th {\n",
       "        vertical-align: top;\n",
       "    }\n",
       "\n",
       "    .dataframe thead th {\n",
       "        text-align: right;\n",
       "    }\n",
       "</style>\n",
       "<table border=\"1\" class=\"dataframe\">\n",
       "  <thead>\n",
       "    <tr style=\"text-align: right;\">\n",
       "      <th></th>\n",
       "      <th>label</th>\n",
       "      <th>reqInterTime</th>\n",
       "      <th>downTraffic</th>\n",
       "      <th>downTrafficDiff</th>\n",
       "      <th>downTrafficDiffAbs</th>\n",
       "    </tr>\n",
       "  </thead>\n",
       "  <tbody>\n",
       "    <tr>\n",
       "      <th>0</th>\n",
       "      <td>1</td>\n",
       "      <td>0.0</td>\n",
       "      <td>0.57735</td>\n",
       "      <td>0.57735</td>\n",
       "      <td>0.57735</td>\n",
       "    </tr>\n",
       "  </tbody>\n",
       "</table>\n",
       "</div>"
      ],
      "text/plain": [
       "   label  reqInterTime  downTraffic  downTrafficDiff  downTrafficDiffAbs\n",
       "0      1           0.0      0.57735          0.57735             0.57735"
      ]
     },
     "execution_count": 513,
     "metadata": {},
     "output_type": "execute_result"
    }
   ],
   "source": [
    "df_test[0:1]"
   ]
  },
  {
   "cell_type": "markdown",
   "metadata": {},
   "source": [
    "# 构造监督数据集"
   ]
  },
  {
   "cell_type": "code",
   "execution_count": 514,
   "metadata": {},
   "outputs": [],
   "source": [
    "train = df_train.values.astype('float16')\n",
    "test = df_test.values.astype('float16')\n",
    "#设置“输入数据回看”的步数\n",
    "look_back = 4\n",
    "trainX = []\n",
    "testX = []\n",
    "trainY = []\n",
    "testY = []\n",
    "\n",
    "for i in range(len(train)-look_back-1):\n",
    "    traintmp = train[i:(i+look_back),0:]\n",
    "    trainX.append(traintmp)\n",
    "    trainY.append(train[i+look_back,0])\n",
    "    \n",
    "trainX = np.reshape(trainX, (len(trainX), look_back, 5))\n",
    "trainY = np.reshape(trainY, (len(trainY),1))\n",
    "\n",
    "for i in range(len(test)-look_back-1):\n",
    "    testmp = test[i:(i+look_back),0:]\n",
    "    testX.append(testmp)\n",
    "    testY.append(test[i+look_back,0])\n",
    "    \n",
    "testX = np.reshape(testX, (len(testX), look_back, 5))\n",
    "testY = np.reshape(testY, (len(testY),1))"
   ]
  },
  {
   "cell_type": "code",
   "execution_count": 515,
   "metadata": {},
   "outputs": [
    {
     "name": "stdout",
     "output_type": "stream",
     "text": [
      "(75590, 4, 5) (75590, 1)\n",
      "[[[1.00e+00 0.00e+00 5.77e-01 5.77e-01 5.77e-01]\n",
      "  [1.00e+00 3.81e-06 5.77e-01 5.77e-01 5.77e-01]\n",
      "  [1.00e+00 3.81e-06 5.77e-01 5.77e-01 5.77e-01]\n",
      "  [1.00e+00 3.46e-06 5.77e-01 5.77e-01 5.77e-01]]\n",
      "\n",
      " [[1.00e+00 3.81e-06 5.77e-01 5.77e-01 5.77e-01]\n",
      "  [1.00e+00 3.81e-06 5.77e-01 5.77e-01 5.77e-01]\n",
      "  [1.00e+00 3.46e-06 5.77e-01 5.77e-01 5.77e-01]\n",
      "  [1.00e+00 3.46e-06 5.77e-01 5.77e-01 5.77e-01]]]\n",
      "[[1.]\n",
      " [1.]]\n"
     ]
    }
   ],
   "source": [
    "print(trainX.shape,trainY.shape)\n",
    "print(trainX[0:2])\n",
    "print(trainY[0:2])"
   ]
  },
  {
   "cell_type": "code",
   "execution_count": 516,
   "metadata": {},
   "outputs": [
    {
     "name": "stdout",
     "output_type": "stream",
     "text": [
      "(2395, 4, 5) (2395, 1)\n"
     ]
    }
   ],
   "source": [
    "print(testX.shape,testY.shape)\n",
    "#print(testX[0:1])\n",
    "#print(testY[0:2])"
   ]
  },
  {
   "cell_type": "code",
   "execution_count": 517,
   "metadata": {},
   "outputs": [
    {
     "name": "stderr",
     "output_type": "stream",
     "text": [
      "/home/zdf/anaconda3/lib/python3.6/site-packages/numpy/core/_methods.py:32: RuntimeWarning:\n",
      "\n",
      "overflow encountered in reduce\n",
      "\n"
     ]
    }
   ],
   "source": [
    "#多类别标签二值化——onehot编码\n",
    "trainY_binary = preprocessing.label_binarize(trainY, classes = [1,2,3,4])\n",
    "testY_binary = preprocessing.label_binarize(testY, classes = [1,2,3,4])"
   ]
  },
  {
   "cell_type": "code",
   "execution_count": 518,
   "metadata": {},
   "outputs": [],
   "source": [
    "from keras.callbacks import Callback\n",
    "from sklearn.metrics import f1_score, precision_score, recall_score"
   ]
  },
  {
   "cell_type": "code",
   "execution_count": 519,
   "metadata": {},
   "outputs": [],
   "source": [
    "class Metrics(Callback):\n",
    "    def on_train_begin(self, logs={}):\n",
    "        self.val_f1s = []\n",
    "        self.val_recalls = []\n",
    "        self.val_precisions = []\n",
    "\n",
    "    def on_epoch_end(self, epoch, logs={}):\n",
    "        #val_predict = (np.asarray(self.model.predict(self.validation_data[0]))).round()\n",
    "        val_predict = np.argmax(np.asarray(self.model.predict(self.validation_data[0])), axis=1)\n",
    "        #val_targ = self.validation_data[1]\n",
    "        val_targ = np.argmax(self.validation_data[1], axis=1)\n",
    "        _val_f1 = f1_score(val_targ, val_predict, average='macro')\n",
    "        _val_recall = recall_score(val_targ, val_predict, average='macro')\n",
    "        _val_precision = precision_score(val_targ, val_predict, average='macro')\n",
    "        self.val_f1s.append(_val_f1)\n",
    "        self.val_recalls.append(_val_recall)\n",
    "        self.val_precisions.append(_val_precision)\n",
    "        #print('— val_f1: %f — val_precision: %f — val_recall %f' %(_val_f1, _val_precision, _val_recall))\n",
    "        return"
   ]
  },
  {
   "cell_type": "code",
   "execution_count": 520,
   "metadata": {},
   "outputs": [
    {
     "name": "stdout",
     "output_type": "stream",
     "text": [
      "Train on 75590 samples, validate on 2395 samples\n",
      "Epoch 1/5\n",
      "75590/75590 [==============================] - 32s 425us/step - loss: 0.1081 - acc: 0.9738 - val_loss: 0.1005 - val_acc: 0.9787\n",
      "Epoch 2/5\n",
      "75590/75590 [==============================] - 28s 374us/step - loss: 0.0580 - acc: 0.9888 - val_loss: 0.0854 - val_acc: 0.9841\n",
      "Epoch 3/5\n",
      "75590/75590 [==============================] - 27s 363us/step - loss: 0.0529 - acc: 0.9903 - val_loss: 0.0811 - val_acc: 0.9846\n",
      "Epoch 4/5\n",
      "75590/75590 [==============================] - 28s 364us/step - loss: 0.0511 - acc: 0.9909 - val_loss: 0.0768 - val_acc: 0.9841\n",
      "Epoch 5/5\n",
      "75590/75590 [==============================] - 28s 371us/step - loss: 0.0505 - acc: 0.9910 - val_loss: 0.0800 - val_acc: 0.9850\n",
      "2395/2395 [==============================] - 0s 79us/step\n",
      "Test loss: 0.08002826916987157\n",
      "Test accuracy: 0.9849686847599165\n",
      "Test precision: 0.9718417232583847\n",
      "Test recall: 0.9735911531725401\n"
     ]
    }
   ],
   "source": [
    "metrics = Metrics()\n",
    "\n",
    "model = Sequential()\n",
    "#model.add(LSTM(128, dropout = 0.2, activation='tanh', input_shape=(trainX.shape[1],trainX.shape[2])))\n",
    "model.add(LSTM(128, input_shape=(trainX.shape[1],trainX.shape[2])))\n",
    "#model.add(Dense(trainY.shape[1], activation='relu'))\n",
    "model.add(Dense(4, activation='softmax'))\n",
    "#model.add(Dense(1))\n",
    "model.compile(\n",
    "            loss = 'categorical_crossentropy', \n",
    "            optimizer = 'adam', \n",
    "            metrics = ['accuracy'])\n",
    "history = model.fit(\n",
    "            trainX, \n",
    "            trainY_binary, \n",
    "            class_weight = 'auto',\n",
    "            epochs = 5, \n",
    "            batch_size = 16, \n",
    "            verbose = 1,\n",
    "            validation_data = (testX, testY_binary),\n",
    "            callbacks = [metrics])\n",
    "\n",
    "score = model.evaluate(testX, testY_binary, batch_size = 16)\n",
    "print('Test loss:', score[0])\n",
    "print('Test accuracy:', score[1])\n",
    "print('Test precision:', metrics.val_precisions[-1])\n",
    "print('Test recall:', metrics.val_recalls[-1])\n",
    "\n",
    "#绘制acc-loss曲线\n",
    "#history.loss_plot('epoch')"
   ]
  },
  {
   "cell_type": "code",
   "execution_count": 521,
   "metadata": {},
   "outputs": [],
   "source": [
    "#softmax结果转换成onehot编码\n",
    "def props_to_onehot(props):\n",
    "    if isinstance(props, list):\n",
    "        props = np.array(props)\n",
    "    a = np.argmax(props, axis=1)\n",
    "    b = np.zeros((len(a), props.shape[1]))\n",
    "    b[np.arange(len(a)), a] = 1\n",
    "    return b"
   ]
  },
  {
   "cell_type": "code",
   "execution_count": 522,
   "metadata": {},
   "outputs": [
    {
     "name": "stdout",
     "output_type": "stream",
     "text": [
      "2395/2395 [==============================] - 0s 62us/step\n",
      "\n",
      "\n",
      "             precision    recall  f1-score   support\n",
      "\n",
      "         CL       0.98      0.98      0.98       129\n",
      "         SW       0.99      0.99      0.99      1723\n",
      "         CE       0.93      0.93      0.93       214\n",
      "         EM       0.99      0.99      0.99       329\n",
      "\n",
      "avg / total       0.98      0.98      0.98      2395\n",
      "\n"
     ]
    }
   ],
   "source": [
    "#调用sklearn\n",
    "predictions_last_epoch = model.predict(testX, batch_size = 16, verbose=1)\n",
    "predictions_last_epoch = props_to_onehot(predictions_last_epoch)\n",
    "target_names = ['CL', 'SW', 'CE', 'EM']\n",
    "print('\\n')\n",
    "print(classification_report(testY_binary, predictions_last_epoch, target_names = target_names))"
   ]
  },
  {
   "cell_type": "code",
   "execution_count": 523,
   "metadata": {},
   "outputs": [
    {
     "name": "stdout",
     "output_type": "stream",
     "text": [
      "2395 2395\n"
     ]
    }
   ],
   "source": [
    "print((len(testY_binary)),len(predictions_last_epoch))"
   ]
  },
  {
   "cell_type": "code",
   "execution_count": 524,
   "metadata": {},
   "outputs": [
    {
     "data": {
      "text/plain": [
       "<matplotlib.legend.Legend at 0x7faa8c5f6518>"
      ]
     },
     "execution_count": 524,
     "metadata": {},
     "output_type": "execute_result"
    },
    {
     "data": {
      "image/png": "[encoded data removed]",
      "text/plain": [
       "<Figure size 432x288 with 1 Axes>"
      ]
     },
     "metadata": {},
     "output_type": "display_data"
    }
   ],
   "source": [
    "fig = plt.figure()\n",
    "plt.plot(history.history['acc'])\n",
    "plt.plot(history.history['val_acc'])\n",
    "plt.title('model accuracy')\n",
    "plt.ylabel('accuracy')\n",
    "plt.xlabel('epoch')\n",
    "plt.legend(['train', 'test'], loc = 'upper left')"
   ]
  },
  {
   "cell_type": "code",
   "execution_count": 525,
   "metadata": {},
   "outputs": [
    {
     "data": {
      "text/plain": [
       "<matplotlib.legend.Legend at 0x7faa8c594748>"
      ]
     },
     "execution_count": 525,
     "metadata": {},
     "output_type": "execute_result"
    },
    {
     "data": {
      "image/png": "[encoded data removed]",
      "text/plain": [
       "<Figure size 432x288 with 1 Axes>"
      ]
     },
     "metadata": {},
     "output_type": "display_data"
    }
   ],
   "source": [
    "plt.plot(history.history['loss'])\n",
    "plt.plot(history.history['val_loss'])\n",
    "plt.title('model loss')\n",
    "plt.ylabel('loss')\n",
    "plt.xlabel('epoch')\n",
    "plt.legend(['train','test'], loc = 'lower left')"
   ]
  },
  {
   "cell_type": "code",
   "execution_count": 526,
   "metadata": {},
   "outputs": [],
   "source": [
    "preData = [(np.argmax(one_hot)+1) for one_hot in predictions_last_epoch]\n",
    "trueData = [(np.argmax(one_hot)+1) for one_hot in testY_binary] \n",
    "time = np.arange(0,2395)"
   ]
  },
  {
   "cell_type": "code",
   "execution_count": 527,
   "metadata": {},
   "outputs": [
    {
     "name": "stdout",
     "output_type": "stream",
     "text": [
      "2395 2395\n"
     ]
    }
   ],
   "source": [
    "print((len(preData)),len(trueData))"
   ]
  },
  {
   "cell_type": "code",
   "execution_count": 528,
   "metadata": {},
   "outputs": [],
   "source": [
    "# 统计两个数字中，相同位置值不同的个数\n",
    "# 把预测错的值取出来\n",
    "n=0\n",
    "num = []\n",
    "preDataWrong = []\n",
    "trueDataTrue = []\n",
    "for i in range(0,len(preData)):\n",
    "    if preData[i] != trueData[i]:\n",
    "        num.append(i)\n",
    "        preDataWrong.append(preData[i])\n",
    "        trueDataTrue.append(trueData[i])\n",
    "        n+=1"
   ]
  },
  {
   "cell_type": "code",
   "execution_count": 529,
   "metadata": {},
   "outputs": [
    {
     "name": "stdout",
     "output_type": "stream",
     "text": [
      "36\n",
      "[9, 26, 146, 154, 274, 282, 290, 297, 771, 786, 995, 1018, 1090, 1098, 1107, 1114, 1298, 1306, 1314, 1322, 1731, 1746, 1866, 1963, 2098, 2107, 2114, 2154, 2163, 2170, 2178, 2187, 2195, 2202, 2210, 2251]\n",
      "[1, 3, 2, 3, 2, 3, 2, 3, 2, 3, 4, 1, 2, 3, 2, 3, 2, 3, 2, 3, 2, 3, 4, 1, 2, 3, 2, 3, 2, 3, 2, 3, 2, 3, 2, 3]\n",
      "[3, 2, 3, 2, 3, 2, 3, 2, 3, 4, 1, 2, 3, 2, 3, 2, 3, 2, 3, 2, 3, 4, 1, 2, 3, 2, 3, 2, 3, 2, 3, 2, 3, 2, 3, 2]\n"
     ]
    }
   ],
   "source": [
    "print(n)\n",
    "print(num)\n",
    "print(preDataWrong)\n",
    "print(trueDataTrue)"
   ]
  },
  {
   "cell_type": "code",
   "execution_count": 530,
   "metadata": {},
   "outputs": [
    {
     "data": {
      "image/png": "[encoded data removed]",
      "text/plain": [
       "<Figure size 432x288 with 1 Axes>"
      ]
     },
     "metadata": {},
     "output_type": "display_data"
    }
   ],
   "source": [
    "plt.plot(time,preData,'r.',time,trueData,'b-')\n",
    "plt.draw()\n",
    "plt.savefig(\"predict\",dpi=600)\n",
    "plt.show()"
   ]
  },
  {
   "cell_type": "code",
   "execution_count": 531,
   "metadata": {},
   "outputs": [],
   "source": [
    "import plotly as py\n",
    "import plotly.graph_objs as go"
   ]
  },
  {
   "cell_type": "code",
   "execution_count": 532,
   "metadata": {},
   "outputs": [],
   "source": [
    "pyplt = py.offline.plot\n",
    "predict = go.Scatter(\n",
    "    x = time, \n",
    "    y = preData,\n",
    "    name = 'predict'\n",
    ")\n",
    "true = go.Scatter(\n",
    "    x = time, \n",
    "    y = trueData,\n",
    "    mode = 'markers',\n",
    "    name = 'true'\n",
    ")\n",
    "predictWrong = go.Scatter(\n",
    "    x = num, \n",
    "    y = preDataWrong,\n",
    "    mode = 'markers',\n",
    "    name = 'predictWrong'\n",
    ")\n",
    "trueValue  = go.Scatter(\n",
    "    x = num, \n",
    "    y = trueDataTrue,\n",
    "    mode = 'markers',\n",
    "    name = 'trueValue'\n",
    ")\n",
    "\n",
    "data = [predict, true, predictWrong, trueValue]\n",
    "layout = go.Layout(\n",
    "    title = 'Y轴',\n",
    "    yaxis = dict(\n",
    "        title = 'predict'\n",
    "    ),\n",
    "    yaxis2 = dict(\n",
    "        title = 'true',\n",
    "        color = '#ffa631',\n",
    "        anchor = 'free',\n",
    "        overlaying = 'y',\n",
    "        side = 'left',\n",
    "        position = 0.04 \n",
    "    ),\n",
    "    yaxis3 = dict(\n",
    "        title = 'predictWrong',\n",
    "        color = '#75878a',\n",
    "        anchor = 'x',\n",
    "        overlaying = 'y',\n",
    "        side = 'right'\n",
    "    ),\n",
    "     yaxis4 = dict(\n",
    "        title = 'trueValue',\n",
    "        color = '#00e500',\n",
    "        anchor = 'free',\n",
    "        overlaying = 'y',\n",
    "        side = 'right',\n",
    "        position = 0.95\n",
    "    )\n",
    ")\n",
    "fig = go.Figure(data = data, layout=layout)\n",
    "plot_url = pyplt(fig, filename='ceshi.html')"
   ]
  },
  {
   "cell_type": "code",
   "execution_count": null,
   "metadata": {},
   "outputs": [],
   "source": []
  },
  {
   "cell_type": "code",
   "execution_count": null,
   "metadata": {},
   "outputs": [],
   "source": []
  },
  {
   "cell_type": "code",
   "execution_count": null,
   "metadata": {},
   "outputs": [],
   "source": []
  },
  {
   "cell_type": "code",
   "execution_count": null,
   "metadata": {},
   "outputs": [],
   "source": []
  },
  {
   "cell_type": "code",
   "execution_count": null,
   "metadata": {},
   "outputs": [],
   "source": []
  },
  {
   "cell_type": "code",
   "execution_count": null,
   "metadata": {},
   "outputs": [],
   "source": []
  },
  {
   "cell_type": "code",
   "execution_count": null,
   "metadata": {},
   "outputs": [],
   "source": []
  },
  {
   "cell_type": "code",
   "execution_count": null,
   "metadata": {},
   "outputs": [],
   "source": []
  },
  {
   "cell_type": "code",
   "execution_count": null,
   "metadata": {},
   "outputs": [],
   "source": []
  },
  {
   "cell_type": "markdown",
   "metadata": {},
   "source": [
    "# 重新训练"
   ]
  },
  {
   "cell_type": "code",
   "execution_count": 377,
   "metadata": {},
   "outputs": [],
   "source": [
    "from keras import backend as K\n",
    "import tensorflow as tf"
   ]
  },
  {
   "cell_type": "code",
   "execution_count": 405,
   "metadata": {},
   "outputs": [],
   "source": [
    "def create_dataset(dataset, look_back=5):\n",
    "    dataX, dataY = [], []\n",
    "    for i in range(len(dataset)-look_back-1):\n",
    "        a = dataset[i:(i+look_back), 1:]\n",
    "        dataX.append(a)\n",
    "        dataY.append(dataset[i + look_back, 0])\n",
    "    return np.array(dataX,dtype = 'float16'), np.array(dataY,dtype = 'int')\n",
    "\n",
    "bola_dataset = bola_videoCatonRecongnize.values\n",
    "bola_dataset = bola_dataset.astype('float16')\n",
    "\n",
    "dynamic_dataset = dynamic_videoCatonRecongnize.values\n",
    "dynamic_dataset = dynamic_dataset.astype('float16')\n",
    "train = dynamic_dataset\n",
    "test = bola_dataset"
   ]
  },
  {
   "cell_type": "code",
   "execution_count": 406,
   "metadata": {},
   "outputs": [],
   "source": [
    "train[np.isinf(train)] = 65000\n",
    "test[np.isinf(test)] = 65000"
   ]
  },
  {
   "cell_type": "code",
   "execution_count": 386,
   "metadata": {},
   "outputs": [],
   "source": [
    "look_back = 5\n",
    "trainx,trainy = create_dataset(train,look_back)\n",
    "testx,testy = create_dataset(test,look_back)\n",
    "trainx = np.reshape(trainx, (trainx.shape[0], look_back, trainx.shape[2]))\n",
    "trainy = np.reshape(trainy, (trainy.shape[0], 1))\n",
    "testx = np.reshape(testx, (testx.shape[0], look_back, testx.shape[2]))\n",
    "testy = np.reshape(testy, (testy.shape[0], 1))"
   ]
  },
  {
   "cell_type": "code",
   "execution_count": 576,
   "metadata": {},
   "outputs": [
    {
     "data": {
      "text/plain": [
       "array([[0.000e+00, 1.243e+00],\n",
       "       [2.581e+04, 1.243e+00],\n",
       "       [6.166e+04, 1.243e+00],\n",
       "       [4.589e+04, 1.243e+00],\n",
       "       [3.571e+04, 1.243e+00]], dtype=float16)"
      ]
     },
     "execution_count": 576,
     "metadata": {},
     "output_type": "execute_result"
    }
   ],
   "source": [
    "trainx[0]"
   ]
  },
  {
   "cell_type": "code",
   "execution_count": 496,
   "metadata": {},
   "outputs": [],
   "source": [
    "def auc(y_true, y_pred):\n",
    "    ptas = tf.stack([binary_PTA(y_true,y_pred,k) for k in np.linspace(0, 1, 1000)],axis=0)\n",
    "    pfas = tf.stack([binary_PFA(y_true,y_pred,k) for k in np.linspace(0, 1, 1000)],axis=0)\n",
    "    pfas = tf.concat([tf.ones((1,)) ,pfas],axis=0)\n",
    "    binSizes = -(pfas[1:]-pfas[:-1])\n",
    "    s = ptas*binSizes\n",
    "    return K.sum(s, axis=0)\n",
    "#-----------------------------------------------------------------------------------------------------------------------------------------------------\n",
    "# PFA, prob false alert for binary classifier\n",
    "def binary_PFA(y_true, y_pred, threshold=K.variable(value=0)):\n",
    "    y_pred = K.cast(y_pred >= threshold, 'float32')\n",
    "    # N = total number of negative labels\n",
    "    N = K.sum(1 - y_true)\n",
    "    # FP = total number of false alerts, alerts from the negative class labels\n",
    "    FP = K.sum(y_pred - y_pred * y_true)\n",
    "    return FP/N\n",
    "#-----------------------------------------------------------------------------------------------------------------------------------------------------\n",
    "# P_TA prob true alerts for binary classifier\n",
    "def binary_PTA(y_true, y_pred, threshold=K.variable(value=0)):\n",
    "    y_pred = K.cast(y_pred >= threshold, 'float32')\n",
    "    # P = total number of positive labels\n",
    "    P = K.sum(y_true)\n",
    "    # TP = total number of correct alerts, alerts from the positive class labels\n",
    "    TP = K.sum(y_pred * y_true)\n",
    "    return TP/P"
   ]
  },
  {
   "cell_type": "code",
   "execution_count": 577,
   "metadata": {
    "scrolled": true
   },
   "outputs": [
    {
     "name": "stderr",
     "output_type": "stream",
     "text": [
      "/usr/local/lib/python3.5/dist-packages/keras/models.py:981: UserWarning: The `nb_epoch` argument in `fit` has been renamed `epochs`.\n",
      "  warnings.warn('The `nb_epoch` argument in `fit` '\n"
     ]
    },
    {
     "name": "stdout",
     "output_type": "stream",
     "text": [
      "Train on 9872 samples, validate on 9990 samples\n",
      "Epoch 1/20\n",
      "9872/9872 [==============================] - 42s 4ms/step - loss: 0.6537 - auc: 0.2271 - val_loss: 0.5760 - val_auc: nan\n",
      "Epoch 2/20\n",
      "9872/9872 [==============================] - 10s 1ms/step - loss: 0.5410 - auc: 0.4837 - val_loss: 0.5444 - val_auc: nan\n",
      "Epoch 3/20\n",
      "9872/9872 [==============================] - 10s 1ms/step - loss: 0.5267 - auc: 0.4875 - val_loss: 0.5387 - val_auc: nan\n",
      "Epoch 4/20\n",
      "9872/9872 [==============================] - 10s 1ms/step - loss: 0.5222 - auc: 0.5112 - val_loss: 0.5381 - val_auc: nan\n",
      "Epoch 5/20\n",
      "9872/9872 [==============================] - 10s 1ms/step - loss: 0.5214 - auc: 0.5165 - val_loss: 0.5371 - val_auc: nan\n",
      "Epoch 6/20\n",
      "9872/9872 [==============================] - 10s 1ms/step - loss: 0.5202 - auc: 0.5258 - val_loss: 0.5378 - val_auc: nan\n",
      "Epoch 7/20\n",
      "9872/9872 [==============================] - 10s 1ms/step - loss: 0.5202 - auc: 0.5274 - val_loss: 0.5362 - val_auc: nan\n",
      "Epoch 8/20\n",
      "9872/9872 [==============================] - 11s 1ms/step - loss: 0.5207 - auc: 0.5234 - val_loss: 0.5370 - val_auc: nan\n",
      "Epoch 9/20\n",
      "9872/9872 [==============================] - 10s 1ms/step - loss: 0.5199 - auc: 0.5307 - val_loss: 0.5385 - val_auc: nan\n",
      "Epoch 10/20\n",
      "9872/9872 [==============================] - 11s 1ms/step - loss: 0.5197 - auc: 0.5354 - val_loss: 0.5370 - val_auc: nan\n",
      "Epoch 11/20\n",
      "9872/9872 [==============================] - 10s 1ms/step - loss: 0.5198 - auc: 0.5331 - val_loss: 0.5358 - val_auc: nan\n",
      "Epoch 12/20\n",
      "9872/9872 [==============================] - 10s 1ms/step - loss: 0.5198 - auc: 0.5319 - val_loss: 0.5383 - val_auc: nan\n",
      "Epoch 13/20\n",
      "9872/9872 [==============================] - 11s 1ms/step - loss: 0.5200 - auc: 0.5274 - val_loss: 0.5380 - val_auc: nan\n",
      "Epoch 14/20\n",
      "9872/9872 [==============================] - 11s 1ms/step - loss: 0.5194 - auc: 0.5354 - val_loss: 0.5377 - val_auc: nan\n",
      "Epoch 15/20\n",
      "9872/9872 [==============================] - 11s 1ms/step - loss: 0.5197 - auc: 0.5324 - val_loss: 0.5386 - val_auc: nan\n",
      "Epoch 16/20\n",
      "9872/9872 [==============================] - 11s 1ms/step - loss: 0.5197 - auc: 0.5325 - val_loss: 0.5373 - val_auc: nan\n",
      "Epoch 17/20\n",
      "9872/9872 [==============================] - 10s 1ms/step - loss: 0.5189 - auc: 0.5399 - val_loss: 0.5372 - val_auc: nan\n",
      "Epoch 18/20\n",
      "9872/9872 [==============================] - 10s 1ms/step - loss: 0.5195 - auc: 0.5357 - val_loss: 0.5375 - val_auc: nan\n",
      "Epoch 19/20\n",
      "9872/9872 [==============================] - 11s 1ms/step - loss: 0.5187 - auc: 0.5477 - val_loss: 0.5383 - val_auc: nan\n",
      "Epoch 20/20\n",
      "9872/9872 [==============================] - 11s 1ms/step - loss: 0.5191 - auc: 0.5406 - val_loss: 0.5382 - val_auc: nan\n",
      "9990/9990 [==============================] - 5s 540us/step\n",
      "Test loss: 0.5381748648585978\n",
      "Test accuracy: nan\n"
     ]
    }
   ],
   "source": [
    "model1 = Sequential()\n",
    "model1.add(LSTM(32, dropout = 0.2, activation='tanh', input_shape=(trainx.shape[1],trainx.shape[2])))\n",
    "model1.add(Dense(trainy.shape[1],activation='relu'))\n",
    "model1.add(Dense(1,activation='sigmoid'))\n",
    "model1.compile(loss = 'binary_crossentropy', optimizer = 'adam', metrics = [auc])\n",
    "model1.fit(trainx, trainy, \n",
    "          nb_epoch = 20, \n",
    "          batch_size = 64, \n",
    "          verbose = 1,\n",
    "          validation_data = (testx, testy))\n",
    "\n",
    "score = model1.evaluate(testx, testy, batch_size = 64)\n",
    "print('Test loss:', score[0])\n",
    "print('Test accuracy:', score[1])"
   ]
  },
  {
   "cell_type": "code",
   "execution_count": 578,
   "metadata": {},
   "outputs": [
    {
     "name": "stdout",
     "output_type": "stream",
     "text": [
      "AUC：0.473074\n"
     ]
    }
   ],
   "source": [
    "y_pred = model1.predict(testx)\n",
    "y_pred = np.array(y_pred).reshape(len(y_pred))\n",
    "testy = testy.reshape(len(testy))\n",
    "print('AUC：%f'%roc_auc_score(testy,y_pred))\n",
    "\n",
    "# y_pred = np.array([1 if i > 0.50 else 0 for i in range(len(y_pred))])\n",
    "# print('precision score：%f'%precision_score(testy,y_pred))\n",
    "# print('recall score：%f'%recall_score(testy,y_pred))\n",
    "# print('F1 score：%f'%f1_score(testy,y_pred))"
   ]
  },
  {
   "cell_type": "code",
   "execution_count": 579,
   "metadata": {},
   "outputs": [
    {
     "data": {
      "text/plain": [
       "2236"
      ]
     },
     "execution_count": 579,
     "metadata": {},
     "output_type": "execute_result"
    }
   ],
   "source": [
    "len([i for i in range(len(testy)) if testy[i] < 0.5])"
   ]
  },
  {
   "cell_type": "code",
   "execution_count": 580,
   "metadata": {},
   "outputs": [
    {
     "data": {
      "text/plain": [
       "[]"
      ]
     },
     "execution_count": 580,
     "metadata": {},
     "output_type": "execute_result"
    }
   ],
   "source": [
    "[i for i in range(len(y_pred)) if y_pred[i] < 0.5]"
   ]
  },
  {
   "cell_type": "markdown",
   "metadata": {},
   "source": [
    "# lstm不手动追溯前面时刻点\n",
    "auc：验证集nan 测试集0.68"
   ]
  },
  {
   "cell_type": "code",
   "execution_count": 660,
   "metadata": {},
   "outputs": [],
   "source": [
    "test = test[:5000]"
   ]
  },
  {
   "cell_type": "code",
   "execution_count": 661,
   "metadata": {},
   "outputs": [],
   "source": [
    "tr_x = train[:,1:]"
   ]
  },
  {
   "cell_type": "code",
   "execution_count": 662,
   "metadata": {},
   "outputs": [],
   "source": [
    "tr_y = train[:,:1]"
   ]
  },
  {
   "cell_type": "code",
   "execution_count": 663,
   "metadata": {},
   "outputs": [],
   "source": [
    "tt_x = test[:,1:]"
   ]
  },
  {
   "cell_type": "code",
   "execution_count": 664,
   "metadata": {},
   "outputs": [],
   "source": [
    "tt_y = test[:,:1]"
   ]
  },
  {
   "cell_type": "code",
   "execution_count": 665,
   "metadata": {
    "scrolled": true
   },
   "outputs": [
    {
     "name": "stderr",
     "output_type": "stream",
     "text": [
      "/usr/local/lib/python3.5/dist-packages/ipykernel_launcher.py:3: UserWarning: Update your `LSTM` call to the Keras 2 API: `LSTM(unit_forget_bias=True, recurrent_activation=\"hard_sigmoid\", activation=\"sigmoid\", units=128)`\n",
      "  This is separate from the ipykernel package so we can avoid doing imports until\n",
      "/usr/local/lib/python3.5/dist-packages/keras/models.py:981: UserWarning: The `nb_epoch` argument in `fit` has been renamed `epochs`.\n",
      "  warnings.warn('The `nb_epoch` argument in `fit` '\n"
     ]
    },
    {
     "name": "stdout",
     "output_type": "stream",
     "text": [
      "Train on 9978 samples, validate on 5000 samples\n",
      "Epoch 1/20\n",
      "9978/9978 [==============================] - 43s 4ms/step - loss: 0.2070 - auc: nan - val_loss: 0.2009 - val_auc: nan\n",
      "Epoch 2/20\n",
      "9978/9978 [==============================] - 8s 767us/step - loss: 0.1521 - auc: nan - val_loss: 0.2013 - val_auc: nan\n",
      "Epoch 3/20\n",
      "9978/9978 [==============================] - 8s 783us/step - loss: 0.1476 - auc: nan - val_loss: 0.2039 - val_auc: nan\n",
      "Epoch 4/20\n",
      "9978/9978 [==============================] - 8s 800us/step - loss: 0.1476 - auc: nan - val_loss: 0.2018 - val_auc: nan\n",
      "Epoch 5/20\n",
      "9978/9978 [==============================] - 8s 784us/step - loss: 0.1476 - auc: nan - val_loss: 0.2023 - val_auc: nan\n",
      "Epoch 6/20\n",
      "9978/9978 [==============================] - 8s 794us/step - loss: 0.1468 - auc: nan - val_loss: 0.2020 - val_auc: nan\n",
      "Epoch 7/20\n",
      "9978/9978 [==============================] - 8s 790us/step - loss: 0.1465 - auc: nan - val_loss: 0.2038 - val_auc: nan\n",
      "Epoch 8/20\n",
      "9978/9978 [==============================] - 8s 786us/step - loss: 0.1459 - auc: nan - val_loss: 0.2023 - val_auc: nan\n",
      "Epoch 9/20\n",
      "9978/9978 [==============================] - 8s 794us/step - loss: 0.1462 - auc: nan - val_loss: 0.2040 - val_auc: nan\n",
      "Epoch 10/20\n",
      "9978/9978 [==============================] - 8s 800us/step - loss: 0.1480 - auc: nan - val_loss: 0.2042 - val_auc: nan\n",
      "Epoch 11/20\n",
      "9978/9978 [==============================] - 8s 781us/step - loss: 0.1466 - auc: nan - val_loss: 0.2074 - val_auc: nan\n",
      "Epoch 12/20\n",
      "9978/9978 [==============================] - 8s 799us/step - loss: 0.1454 - auc: nan - val_loss: 0.2061 - val_auc: nan\n",
      "Epoch 13/20\n",
      "9978/9978 [==============================] - 8s 793us/step - loss: 0.1454 - auc: nan - val_loss: 0.2065 - val_auc: nan\n",
      "Epoch 14/20\n",
      "9978/9978 [==============================] - 8s 797us/step - loss: 0.1454 - auc: nan - val_loss: 0.2046 - val_auc: nan\n",
      "Epoch 15/20\n",
      "9978/9978 [==============================] - 8s 780us/step - loss: 0.1449 - auc: nan - val_loss: 0.2044 - val_auc: nan\n",
      "Epoch 16/20\n",
      "9978/9978 [==============================] - 8s 798us/step - loss: 0.1442 - auc: nan - val_loss: 0.2045 - val_auc: nan\n",
      "Epoch 17/20\n",
      "9978/9978 [==============================] - 8s 779us/step - loss: 0.1455 - auc: nan - val_loss: 0.2042 - val_auc: nan\n",
      "Epoch 18/20\n",
      "9978/9978 [==============================] - 8s 794us/step - loss: 0.1452 - auc: nan - val_loss: 0.2060 - val_auc: nan\n",
      "Epoch 19/20\n",
      "9978/9978 [==============================] - 8s 801us/step - loss: 0.1439 - auc: nan - val_loss: 0.2058 - val_auc: nan\n",
      "Epoch 20/20\n",
      "9978/9978 [==============================] - 8s 816us/step - loss: 0.1442 - auc: nan - val_loss: 0.2055 - val_auc: nan\n"
     ]
    },
    {
     "data": {
      "text/plain": [
       "<keras.callbacks.History at 0x7f65c22ca358>"
      ]
     },
     "execution_count": 665,
     "metadata": {},
     "output_type": "execute_result"
    }
   ],
   "source": [
    "model2 = Sequential()\n",
    "model2.add(Embedding(500, 128, input_length=2))\n",
    "model2.add(LSTM(output_dim=128, activation='sigmoid', recurrent_activation='hard_sigmoid', unit_forget_bias=True))\n",
    "model2.add(Dropout(0.5))\n",
    "model2.add(Dense(1))\n",
    "model2.add(Activation('sigmoid'))\n",
    "\n",
    "model2.compile(loss='binary_crossentropy',\n",
    "              optimizer='adam',\n",
    "              metrics=[auc])\n",
    "\n",
    "model2.fit(tr_x, tr_y, \n",
    "          nb_epoch = 20, \n",
    "          batch_size = 64, \n",
    "          verbose = 1,\n",
    "          validation_data = (tt_x, tt_y))"
   ]
  },
  {
   "cell_type": "code",
   "execution_count": 666,
   "metadata": {},
   "outputs": [
    {
     "name": "stdout",
     "output_type": "stream",
     "text": [
      "AUC：0.684453\n"
     ]
    }
   ],
   "source": [
    "y_pred = model2.predict_proba(tt_x)\n",
    "y_pred = np.array(y_pred).reshape(len(y_pred))\n",
    "tt_y = tt_y.reshape(len(tt_y))\n",
    "print('AUC：%f'%roc_auc_score(tt_y,y_pred))\n",
    "\n",
    "# y_pred = np.array([1 if y_pred[i] > 0.50 else 0 for i in range(len(y_pred))])\n",
    "# print('precision score：%f'%precision_score(tt_y,y_pred))\n",
    "# print('recall score：%f'%recall_score(tt_y,y_pred))\n",
    "# print('F1 score：%f'%f1_score(tt_y,y_pred))"
   ]
  },
  {
   "cell_type": "code",
   "execution_count": 667,
   "metadata": {},
   "outputs": [
    {
     "data": {
      "text/plain": [
       "[]"
      ]
     },
     "execution_count": 667,
     "metadata": {},
     "output_type": "execute_result"
    }
   ],
   "source": [
    "[i for i in range(len(y_pred)) if y_pred[i] <= 0.5]"
   ]
  },
  {
   "cell_type": "code",
   "execution_count": 668,
   "metadata": {},
   "outputs": [
    {
     "data": {
      "text/plain": [
       "array([0.8471982 , 0.8471982 , 0.8471982 , ..., 0.96054965, 0.96054965,\n",
       "       0.96054965], dtype=float32)"
      ]
     },
     "execution_count": 668,
     "metadata": {},
     "output_type": "execute_result"
    }
   ],
   "source": [
    "y_pred"
   ]
  },
  {
   "cell_type": "markdown",
   "metadata": {},
   "source": [
    "# xgboost加上时序特征\n",
    "auc:验证集0.60 测试集0.54"
   ]
  },
  {
   "cell_type": "code",
   "execution_count": 669,
   "metadata": {},
   "outputs": [],
   "source": [
    "from xgboost.sklearn import XGBClassifier\n",
    "from sklearn.grid_search import GridSearchCV\n",
    "from sklearn.metrics import confusion_matrix"
   ]
  },
  {
   "cell_type": "code",
   "execution_count": 725,
   "metadata": {},
   "outputs": [],
   "source": [
    "test = test[:5000]\n",
    "tr_x = train[:,1:]\n",
    "tr_y = train[:,:1].flatten()\n",
    "tt_x = test[:,1:]\n",
    "tt_y = test[:,:1].flatten()"
   ]
  },
  {
   "cell_type": "code",
   "execution_count": 761,
   "metadata": {},
   "outputs": [
    {
     "data": {
      "text/plain": [
       "array([[0.000e+00, 0.000e+00, 0.000e+00],\n",
       "       [0.000e+00, 0.000e+00, 0.000e+00],\n",
       "       [0.000e+00, 0.000e+00, 0.000e+00],\n",
       "       ...,\n",
       "       [1.000e+00, 0.000e+00, 4.512e+00],\n",
       "       [1.000e+00, 5.736e+03, 4.512e+00],\n",
       "       [1.000e+00, 0.000e+00, 4.512e+00]], dtype=float16)"
      ]
     },
     "execution_count": 761,
     "metadata": {},
     "output_type": "execute_result"
    }
   ],
   "source": [
    "train"
   ]
  },
  {
   "cell_type": "code",
   "execution_count": 726,
   "metadata": {},
   "outputs": [
    {
     "data": {
      "text/plain": [
       "[0.0, 0.0, 0.0, 0.0, 0.0, 0.0, 0.0, 0.0]"
      ]
     },
     "execution_count": 726,
     "metadata": {},
     "output_type": "execute_result"
    }
   ],
   "source": [
    "list(tr_x[0:4,:].flatten())"
   ]
  },
  {
   "cell_type": "code",
   "execution_count": 746,
   "metadata": {},
   "outputs": [],
   "source": [
    "def reconstruct(data,lookback=5): # 对data数据集进行操作，datax包含时序信息\n",
    "    datax = []\n",
    "    datay = []\n",
    "    for i in range(len(data)-look_back-1):\n",
    "        a = list(data[i:(i+look_back), 1:].flatten())\n",
    "        datax.append(a)\n",
    "        b = data[i][0]\n",
    "        datay.append(b)\n",
    "    return np.array(datax),np.array(datay)"
   ]
  },
  {
   "cell_type": "code",
   "execution_count": 753,
   "metadata": {},
   "outputs": [],
   "source": [
    "tr_x,tr_y = reconstruct(train)\n",
    "tt_x,tt_y = reconstruct(test)"
   ]
  },
  {
   "cell_type": "code",
   "execution_count": 768,
   "metadata": {},
   "outputs": [
    {
     "data": {
      "text/plain": [
       "array([[   0.  ,    0.  ,    0.  , ...,    0.  ,    0.  ,    0.  ],\n",
       "       [   0.  ,    0.  ,    0.  , ...,    0.  ,    0.  ,    0.  ],\n",
       "       [   0.  ,    0.  ,    0.  , ...,    0.  ,    0.  ,    0.  ],\n",
       "       ...,\n",
       "       [   0.  ,    4.51,    0.  , ...,    4.51, 2868.  ,    4.51],\n",
       "       [   0.  ,    4.51, 4304.  , ...,    4.51,    0.  ,    4.51],\n",
       "       [4304.  ,    4.51, 2868.  , ...,    4.51,    0.  ,    4.51]],\n",
       "      dtype=float16)"
      ]
     },
     "execution_count": 768,
     "metadata": {},
     "output_type": "execute_result"
    }
   ],
   "source": [
    "tr_x"
   ]
  },
  {
   "cell_type": "code",
   "execution_count": 762,
   "metadata": {},
   "outputs": [
    {
     "data": {
      "text/plain": [
       "array([0., 0., 0., ..., 1., 1., 1.], dtype=float16)"
      ]
     },
     "execution_count": 762,
     "metadata": {},
     "output_type": "execute_result"
    }
   ],
   "source": [
    "tr_y"
   ]
  },
  {
   "cell_type": "code",
   "execution_count": 769,
   "metadata": {},
   "outputs": [],
   "source": [
    "xgb1 = XGBClassifier(\n",
    "                     objective= 'binary:logistic', \n",
    "                     nthread=4, \n",
    "                     max_depth=2,\n",
    "                     min_child_weight=4, \n",
    "                     learning_rate =0.1, \n",
    "                     n_estimators=140, \n",
    "                     gamma=0, \n",
    "                     subsample=0.8,\n",
    "                     colsample_bytree=0.8,    \n",
    "                     scale_pos_weight=1, \n",
    "                     seed=27,\n",
    "                     \n",
    "                    )"
   ]
  },
  {
   "cell_type": "code",
   "execution_count": 770,
   "metadata": {},
   "outputs": [
    {
     "name": "stdout",
     "output_type": "stream",
     "text": [
      "[0]\tvalidation_0-auc:0.636229\n",
      "[1]\tvalidation_0-auc:0.673296\n",
      "[2]\tvalidation_0-auc:0.673228\n",
      "[3]\tvalidation_0-auc:0.673152\n",
      "[4]\tvalidation_0-auc:0.673143\n",
      "[5]\tvalidation_0-auc:0.673133\n",
      "[6]\tvalidation_0-auc:0.739203\n",
      "[7]\tvalidation_0-auc:0.738876\n",
      "[8]\tvalidation_0-auc:0.737986\n",
      "[9]\tvalidation_0-auc:0.737831\n",
      "[10]\tvalidation_0-auc:0.739409\n",
      "[11]\tvalidation_0-auc:0.739882\n",
      "[12]\tvalidation_0-auc:0.73942\n",
      "[13]\tvalidation_0-auc:0.739564\n",
      "[14]\tvalidation_0-auc:0.740086\n",
      "[15]\tvalidation_0-auc:0.741567\n",
      "[16]\tvalidation_0-auc:0.741541\n",
      "[17]\tvalidation_0-auc:0.741453\n",
      "[18]\tvalidation_0-auc:0.741598\n",
      "[19]\tvalidation_0-auc:0.741551\n",
      "[20]\tvalidation_0-auc:0.741897\n",
      "[21]\tvalidation_0-auc:0.741632\n",
      "[22]\tvalidation_0-auc:0.742058\n",
      "[23]\tvalidation_0-auc:0.74139\n",
      "[24]\tvalidation_0-auc:0.741651\n",
      "[25]\tvalidation_0-auc:0.74126\n",
      "[26]\tvalidation_0-auc:0.741536\n",
      "[27]\tvalidation_0-auc:0.741306\n",
      "[28]\tvalidation_0-auc:0.741317\n",
      "[29]\tvalidation_0-auc:0.741319\n",
      "[30]\tvalidation_0-auc:0.741296\n",
      "[31]\tvalidation_0-auc:0.732453\n",
      "[32]\tvalidation_0-auc:0.732898\n",
      "[33]\tvalidation_0-auc:0.732797\n",
      "[34]\tvalidation_0-auc:0.722384\n",
      "[35]\tvalidation_0-auc:0.722343\n",
      "[36]\tvalidation_0-auc:0.721968\n",
      "[37]\tvalidation_0-auc:0.722162\n",
      "[38]\tvalidation_0-auc:0.722121\n",
      "[39]\tvalidation_0-auc:0.722123\n",
      "[40]\tvalidation_0-auc:0.716218\n",
      "[41]\tvalidation_0-auc:0.716049\n",
      "[42]\tvalidation_0-auc:0.688209\n",
      "[43]\tvalidation_0-auc:0.686154\n",
      "[44]\tvalidation_0-auc:0.680111\n",
      "[45]\tvalidation_0-auc:0.678041\n",
      "[46]\tvalidation_0-auc:0.679197\n",
      "[47]\tvalidation_0-auc:0.676661\n",
      "[48]\tvalidation_0-auc:0.676755\n",
      "[49]\tvalidation_0-auc:0.676986\n",
      "[50]\tvalidation_0-auc:0.674849\n",
      "[51]\tvalidation_0-auc:0.675594\n",
      "[52]\tvalidation_0-auc:0.67401\n",
      "[53]\tvalidation_0-auc:0.672089\n",
      "[54]\tvalidation_0-auc:0.667629\n",
      "[55]\tvalidation_0-auc:0.662615\n",
      "[56]\tvalidation_0-auc:0.662182\n",
      "[57]\tvalidation_0-auc:0.656431\n",
      "[58]\tvalidation_0-auc:0.659757\n",
      "[59]\tvalidation_0-auc:0.660582\n",
      "[60]\tvalidation_0-auc:0.651725\n",
      "[61]\tvalidation_0-auc:0.659218\n",
      "[62]\tvalidation_0-auc:0.652429\n",
      "[63]\tvalidation_0-auc:0.650413\n",
      "[64]\tvalidation_0-auc:0.650413\n",
      "[65]\tvalidation_0-auc:0.611596\n",
      "[66]\tvalidation_0-auc:0.646304\n",
      "[67]\tvalidation_0-auc:0.64571\n",
      "[68]\tvalidation_0-auc:0.64558\n",
      "[69]\tvalidation_0-auc:0.649493\n",
      "[70]\tvalidation_0-auc:0.650758\n",
      "[71]\tvalidation_0-auc:0.650734\n",
      "[72]\tvalidation_0-auc:0.669184\n",
      "[73]\tvalidation_0-auc:0.659118\n",
      "[74]\tvalidation_0-auc:0.652521\n",
      "[75]\tvalidation_0-auc:0.645755\n",
      "[76]\tvalidation_0-auc:0.631454\n",
      "[77]\tvalidation_0-auc:0.645955\n",
      "[78]\tvalidation_0-auc:0.647277\n",
      "[79]\tvalidation_0-auc:0.645614\n",
      "[80]\tvalidation_0-auc:0.630476\n",
      "[81]\tvalidation_0-auc:0.633408\n",
      "[82]\tvalidation_0-auc:0.623679\n",
      "[83]\tvalidation_0-auc:0.605847\n",
      "[84]\tvalidation_0-auc:0.606365\n",
      "[85]\tvalidation_0-auc:0.602917\n",
      "[86]\tvalidation_0-auc:0.617087\n",
      "[87]\tvalidation_0-auc:0.615372\n",
      "[88]\tvalidation_0-auc:0.6049\n",
      "[89]\tvalidation_0-auc:0.607864\n",
      "[90]\tvalidation_0-auc:0.598073\n",
      "[91]\tvalidation_0-auc:0.599514\n",
      "[92]\tvalidation_0-auc:0.597643\n",
      "[93]\tvalidation_0-auc:0.598322\n",
      "[94]\tvalidation_0-auc:0.590903\n",
      "[95]\tvalidation_0-auc:0.591252\n",
      "[96]\tvalidation_0-auc:0.594197\n",
      "[97]\tvalidation_0-auc:0.595414\n",
      "[98]\tvalidation_0-auc:0.595154\n",
      "[99]\tvalidation_0-auc:0.596323\n",
      "[100]\tvalidation_0-auc:0.602538\n",
      "[101]\tvalidation_0-auc:0.608361\n",
      "[102]\tvalidation_0-auc:0.60811\n",
      "[103]\tvalidation_0-auc:0.608193\n",
      "[104]\tvalidation_0-auc:0.626892\n",
      "[105]\tvalidation_0-auc:0.627816\n",
      "[106]\tvalidation_0-auc:0.628427\n",
      "[107]\tvalidation_0-auc:0.624413\n",
      "[108]\tvalidation_0-auc:0.618769\n",
      "[109]\tvalidation_0-auc:0.619108\n",
      "[110]\tvalidation_0-auc:0.611459\n",
      "[111]\tvalidation_0-auc:0.600239\n",
      "[112]\tvalidation_0-auc:0.60108\n",
      "[113]\tvalidation_0-auc:0.601614\n",
      "[114]\tvalidation_0-auc:0.599629\n",
      "[115]\tvalidation_0-auc:0.59956\n",
      "[116]\tvalidation_0-auc:0.5965\n",
      "[117]\tvalidation_0-auc:0.592886\n",
      "[118]\tvalidation_0-auc:0.607259\n",
      "[119]\tvalidation_0-auc:0.609106\n",
      "[120]\tvalidation_0-auc:0.61562\n",
      "[121]\tvalidation_0-auc:0.61011\n",
      "[122]\tvalidation_0-auc:0.616813\n",
      "[123]\tvalidation_0-auc:0.609511\n",
      "[124]\tvalidation_0-auc:0.619548\n",
      "[125]\tvalidation_0-auc:0.619283\n",
      "[126]\tvalidation_0-auc:0.615201\n",
      "[127]\tvalidation_0-auc:0.614229\n",
      "[128]\tvalidation_0-auc:0.614147\n",
      "[129]\tvalidation_0-auc:0.60599\n",
      "[130]\tvalidation_0-auc:0.605926\n",
      "[131]\tvalidation_0-auc:0.606036\n",
      "[132]\tvalidation_0-auc:0.606956\n",
      "[133]\tvalidation_0-auc:0.605682\n",
      "[134]\tvalidation_0-auc:0.598751\n",
      "[135]\tvalidation_0-auc:0.596714\n",
      "[136]\tvalidation_0-auc:0.596703\n",
      "[137]\tvalidation_0-auc:0.596808\n",
      "[138]\tvalidation_0-auc:0.598416\n",
      "[139]\tvalidation_0-auc:0.598728\n"
     ]
    },
    {
     "data": {
      "text/plain": [
       "XGBClassifier(base_score=0.5, booster='gbtree', colsample_bylevel=1,\n",
       "       colsample_bytree=0.8, gamma=0, learning_rate=0.1, max_delta_step=0,\n",
       "       max_depth=2, min_child_weight=4, missing=None, n_estimators=140,\n",
       "       n_jobs=1, nthread=4, objective='binary:logistic', random_state=0,\n",
       "       reg_alpha=0, reg_lambda=1, scale_pos_weight=1, seed=27, silent=True,\n",
       "       subsample=0.8)"
      ]
     },
     "execution_count": 770,
     "metadata": {},
     "output_type": "execute_result"
    }
   ],
   "source": [
    "xgb1.fit(tr_x,tr_y,eval_set=[(tt_x,tt_y)],eval_metric='auc')"
   ]
  },
  {
   "cell_type": "code",
   "execution_count": 771,
   "metadata": {},
   "outputs": [
    {
     "name": "stderr",
     "output_type": "stream",
     "text": [
      "/usr/local/lib/python3.5/dist-packages/sklearn/preprocessing/label.py:151: DeprecationWarning: The truth value of an empty array is ambiguous. Returning False, but in future this will result in an error. Use `array.size > 0` to check that an array is not empty.\n",
      "  if diff:\n"
     ]
    }
   ],
   "source": [
    "pred = xgb1.predict(tt_x)"
   ]
  },
  {
   "cell_type": "code",
   "execution_count": 772,
   "metadata": {},
   "outputs": [
    {
     "data": {
      "text/plain": [
       "0.535770703023542"
      ]
     },
     "execution_count": 772,
     "metadata": {},
     "output_type": "execute_result"
    }
   ],
   "source": [
    "roc_auc_score(pred,tt_y)"
   ]
  },
  {
   "cell_type": "code",
   "execution_count": 773,
   "metadata": {},
   "outputs": [
    {
     "data": {
      "text/plain": [
       "268"
      ]
     },
     "execution_count": 773,
     "metadata": {},
     "output_type": "execute_result"
    }
   ],
   "source": [
    "list(tt_y).count(0)"
   ]
  },
  {
   "cell_type": "code",
   "execution_count": 774,
   "metadata": {},
   "outputs": [
    {
     "data": {
      "text/plain": [
       "array([[  24,  244],\n",
       "       [ 172, 4549]])"
      ]
     },
     "execution_count": 774,
     "metadata": {},
     "output_type": "execute_result"
    }
   ],
   "source": [
    "confusion_matrix(tt_y,pred)"
   ]
  },
  {
   "cell_type": "code",
   "execution_count": null,
   "metadata": {},
   "outputs": [],
   "source": []
  }
 ],
 "metadata": {
  "kernelspec": {
   "display_name": "Python 3",
   "language": "python",
   "name": "python3"
  },
  "language_info": {
   "codemirror_mode": {
    "name": "ipython",
    "version": 3
   },
   "file_extension": ".py",
   "mimetype": "text/x-python",
   "name": "python",
   "nbconvert_exporter": "python",
   "pygments_lexer": "ipython3",
   "version": "3.6.3"
  }
 },
 "nbformat": 4,
 "nbformat_minor": 2
}
