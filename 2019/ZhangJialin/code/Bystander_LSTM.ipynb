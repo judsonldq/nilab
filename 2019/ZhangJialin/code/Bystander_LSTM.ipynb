{
 "cells": [
  {
   "cell_type": "code",
   "execution_count": 392,
   "metadata": {},
   "outputs": [],
   "source": [
    "import matplotlib.pyplot as plt\n",
    "import math\n",
    "import numpy as np\n",
    "import pandas as pd\n",
    "import keras\n",
    "from keras.models import Sequential\n",
    "from keras.layers import Dense, Embedding\n",
    "from keras.layers import LSTM\n",
    "from keras.utils import np_utils\n",
    "from keras.layers.core import Dense, Dropout, Activation\n",
    "#from keras.layers import Flatten\n",
    "#from sklearn.metrics import roc_auc_score\n",
    "#from io import StringIO\n",
    "from sklearn import preprocessing\n",
    "from sklearn.pipeline import Pipeline\n",
    "from sklearn.model_selection import GridSearchCV\n",
    "from sklearn.metrics import classification_report\n",
    "import keras_metrics"
   ]
  },
  {
   "cell_type": "markdown",
   "metadata": {},
   "source": [
    "# 载入数据"
   ]
  },
  {
   "cell_type": "code",
   "execution_count": 393,
   "metadata": {},
   "outputs": [],
   "source": [
    "#BigBuckBuuny\n",
    "df1 = pd.read_csv('/Users/dave/Desktop/毕设数据/data/BigBuckBunny/bola-9/qoedata.csv')\n",
    "#df2 = pd.read_csv('/Users/dave/Desktop/毕设数据/data/BigBuckBunny/bola-10/qoedata.csv')\n",
    "#df3 = pd.read_csv('/Users/dave/Desktop/毕设数据/data/BigBuckBunny/bola-11/qoedata.csv')\n",
    "df4 = pd.read_csv('/Users/dave/Desktop/毕设数据/data/BigBuckBunny/bola-12/qoedata.csv')\n",
    "#df5 = pd.read_csv('/home/zdf/桌面/20181231/data/BigBuckBunny/bola-13/qoedata.csv')\n",
    "df6 = pd.read_csv('/Users/dave/Desktop/毕设数据/data/BigBuckBunny/bola-14/qoedata.csv')\n",
    "#df7 = pd.read_csv('/home/zdf/桌面/20181231/data/BigBuckBunny/bola-15/qoedata.csv')\n",
    "#df8 = pd.read_csv('/home/zdf/桌面/20181231/data/BigBuckBunny/bola-17/qoedata.csv')\n",
    "df9 = pd.read_csv('/Users/dave/Desktop/毕设数据/data/BigBuckBunny/bola-18/qoedata.csv')\n",
    "#df10 = pd.read_csv('/home/zdf/桌面/20181231/data/BigBuckBunny/bola-20/qoedata.csv')\n",
    "df11 = pd.read_csv('/Users/dave/Desktop/毕设数据/data/BigBuckBunny/bola-21/qoedata.csv')\n",
    "df12 = pd.read_csv('/Users/dave/Desktop/毕设数据/data/BigBuckBunny/bola-22/qoedata.csv')\n",
    "#df13 = pd.read_csv('/home/zdf/桌面/20181231/data/BigBuckBunny/bola-23/qoedata.csv')\n",
    "df14 = pd.read_csv('/Users/dave/Desktop/毕设数据/data/BigBuckBunny/bola-24/qoedata.csv')\n",
    "df15 = pd.read_csv('/Users/dave/Desktop/毕设数据/data/BigBuckBunny/bola-25/qoedata.csv')\n",
    "\n",
    "df16 = pd.read_csv('/Users/dave/Desktop/毕设数据/data/BigBuckBunny/bola-26/qoedata.csv')\n",
    "#df17 = pd.read_csv('/Users/dave/Desktop/毕设数据/data/BigBuckBunny/bola-27/qoedata.csv')\n",
    "#df18 = pd.read_csv('/home/zdf/桌面/20181231/data/BigBuckBunny/bola-28/qoedata.csv')\n",
    "df19 = pd.read_csv('/Users/dave/Desktop/毕设数据/data/BigBuckBunny/bola-29/qoedata.csv')\n",
    "#df20 = pd.read_csv('/home/zdf/桌面/20181231/data/BigBuckBunny/bola-30/qoedata.csv')\n",
    "df21 = pd.read_csv('/Users/dave/Desktop/毕设数据/data/BigBuckBunny/bola-31/qoedata.csv')\n",
    "#df22 = pd.read_csv('/home/zdf/桌面/20181231/data/BigBuckBunny/bola-32/qoedata.csv')\n",
    "#df23 = pd.read_csv('/home/zdf/桌面/20181231/data/BigBuckBunny/bola-33/qoedata.csv')\n",
    "df24 = pd.read_csv('/Users/dave/Desktop/毕设数据/data/BigBuckBunny/bola-34/qoedata.csv')\n",
    "df25 = pd.read_csv('/Users/dave/Desktop/毕设数据/data/BigBuckBunny/bola-35/qoedata.csv')\n",
    "#df26 = pd.read_csv('/home/zdf/桌面/20181231/data/BigBuckBunny/bola-36/qoedata.csv')\n",
    "\n",
    "#action\n",
    "df27 = pd.read_csv('/Users/dave/Desktop/毕设数据/data/action/action-1/qoedata.csv')\n",
    "#df28 = pd.read_csv('/Users/dave/Desktop/毕设数据/data/action/action-2/qoedata.csv')\n",
    "df29 = pd.read_csv('/Users/dave/Desktop/毕设数据/data/action/action-3/qoedata.csv')\n",
    "df30 = pd.read_csv('/Users/dave/Desktop/毕设数据/data/action/action-4/qoedata.csv')\n",
    "df31 = pd.read_csv('/Users/dave/Desktop/毕设数据/data/action/action-7/qoedata.csv')\n",
    "\n",
    "#doc\n",
    "df32 = pd.read_csv('//Users/dave/Desktop/毕设数据/data/doc/doc-2/qoedata.csv')\n",
    "df33 = pd.read_csv('/Users/dave/Desktop/毕设数据/data/doc/doc-4/qoedata.csv')\n",
    "df34 = pd.read_csv('/Users/dave/Desktop/毕设数据/data/doc/doc-5/qoedata.csv')\n",
    "df35 = pd.read_csv('/Users/dave/Desktop/毕设数据/data/doc/doc-6/qoedata.csv')\n",
    "df36 = pd.read_csv('//Users/dave/Desktop/毕设数据/data/doc/doc-7/qoedata.csv')\n",
    "\n",
    "#dream\n",
    "#df37 = pd.read_csv('/Users/dave/Desktop/毕设数据/data/dream/dream-1/qoedata.csv')\n",
    "#df38 = pd.read_csv('/Users/dave/Desktop/毕设数据/data/dream/dream-3/qoedata.csv')\n",
    "df39 = pd.read_csv('/Users/dave/Desktop/毕设数据/data/dream/dream-4/qoedata.csv')\n",
    "#df40 = pd.read_csv('/Users/dave/Desktop/毕设数据/data/dream/dream-5/qoedata.csv')\n",
    "\n",
    "#flower\n",
    "df41 = pd.read_csv('/Users/dave/Desktop/毕设数据/data/flower/flower-2/qoedata.csv')\n",
    "df42 = pd.read_csv('/Users/dave/Desktop/毕设数据/data/flower/flower-3/qoedata.csv')\n",
    "df43 = pd.read_csv('/Users/dave/Desktop/毕设数据/data/flower/flower-4/qoedata.csv')\n",
    "df44 = pd.read_csv('/Users/dave/Desktop/毕设数据/data/flower/flower-6/qoedata.csv')\n",
    "\n",
    "#future\n",
    "#df45 = pd.read_csv('/home/zdf/桌面/20181231/data/future/future-1/qoedata.csv')\n",
    "#df46 = pd.read_csv('/home/zdf/桌面/20181231/data/future/future-2/qoedata.csv')\n",
    "#df47 = pd.read_csv('/home/zdf/桌面/20181231/data/future/future-3/qoedata.csv')\n",
    "#df48 = pd.read_csv('/home/zdf/桌面/20181231/data/future/future-4/qoedata.csv')\n",
    "df49 = pd.read_csv('/Users/dave/Desktop/毕设数据/data/future/future-5/qoedata.csv')\n",
    "#df50 = pd.read_csv('/Users/dave/Desktop/毕设数据/data/future/future-6/qoedata.csv')\n",
    "df51 = pd.read_csv('/Users/dave/Desktop/毕设数据/data/future/future-7/qoedata.csv')\n",
    "#df52 = pd.read_csv('/Users/dave/Desktop/毕设数据/data/future/future-8/qoedata.csv')\n",
    "\n",
    "#tv\n",
    "df53 = pd.read_csv('/Users/dave/Desktop/毕设数据/data/tv/tv-1/qoedata.csv')\n",
    "df54 = pd.read_csv('/Users/dave/Desktop/毕设数据/data/tv/tv-2/qoedata.csv')\n",
    "df55 = pd.read_csv('/Users/dave/Desktop/毕设数据/data/tv/tv-3/qoedata.csv')"
   ]
  },
  {
   "cell_type": "code",
   "execution_count": 394,
   "metadata": {},
   "outputs": [],
   "source": [
    "df  = pd.concat([df1,df4,df6,\n",
    "                 df11,df12,df14,df16,df19,\n",
    "                 df21,df27,\n",
    "                 df31,df32,df33,df36,\n",
    "                 df41,df42,df44], axis = 0)\n",
    "df25 = pd.concat([df9,df15,df24,df25,df29,df30,df34], axis = 0)\n",
    "del df['Unnamed: 0']\n",
    "del df25['Unnamed: 0']"
   ]
  },
  {
   "cell_type": "code",
   "execution_count": 395,
   "metadata": {},
   "outputs": [
    {
     "data": {
      "text/plain": [
       "\"\\ndf = pd.read_csv('/Users/dave/Desktop/毕设数据/df.csv')\\ndf25 = pd.read_csv('//Users/dave/Desktop/毕设数据/df25.csv')\\ndel df['Unnamed: 0']\\ndel df25['Unnamed: 0']\\n\""
      ]
     },
     "execution_count": 395,
     "metadata": {},
     "output_type": "execute_result"
    }
   ],
   "source": [
    "'''\n",
    "df = pd.read_csv('/Users/dave/Desktop/毕设数据/df.csv')\n",
    "df25 = pd.read_csv('//Users/dave/Desktop/毕设数据/df25.csv')\n",
    "del df['Unnamed: 0']\n",
    "del df25['Unnamed: 0']\n",
    "'''"
   ]
  },
  {
   "cell_type": "code",
   "execution_count": 396,
   "metadata": {},
   "outputs": [
    {
     "data": {
      "text/html": [
       "<div>\n",
       "<style>\n",
       "    .dataframe thead tr:only-child th {\n",
       "        text-align: right;\n",
       "    }\n",
       "\n",
       "    .dataframe thead th {\n",
       "        text-align: left;\n",
       "    }\n",
       "\n",
       "    .dataframe tbody tr th {\n",
       "        vertical-align: top;\n",
       "    }\n",
       "</style>\n",
       "<table border=\"1\" class=\"dataframe\">\n",
       "  <thead>\n",
       "    <tr style=\"text-align: right;\">\n",
       "      <th></th>\n",
       "      <th>state4</th>\n",
       "      <th>state3</th>\n",
       "      <th>reqInterTime</th>\n",
       "      <th>downTraffic</th>\n",
       "      <th>downTrafficDiff</th>\n",
       "      <th>downTrafficDiffAbs</th>\n",
       "    </tr>\n",
       "  </thead>\n",
       "  <tbody>\n",
       "    <tr>\n",
       "      <th>0</th>\n",
       "      <td>1</td>\n",
       "      <td>1</td>\n",
       "      <td>0.0</td>\n",
       "      <td>101363</td>\n",
       "      <td>101363</td>\n",
       "      <td>101363</td>\n",
       "    </tr>\n",
       "  </tbody>\n",
       "</table>\n",
       "</div>"
      ],
      "text/plain": [
       "   state4  state3  reqInterTime  downTraffic  downTrafficDiff  \\\n",
       "0       1       1           0.0       101363           101363   \n",
       "\n",
       "   downTrafficDiffAbs  \n",
       "0              101363  "
      ]
     },
     "execution_count": 396,
     "metadata": {},
     "output_type": "execute_result"
    }
   ],
   "source": [
    "df[0:1]"
   ]
  },
  {
   "cell_type": "code",
   "execution_count": 397,
   "metadata": {},
   "outputs": [
    {
     "data": {
      "text/html": [
       "<div>\n",
       "<style>\n",
       "    .dataframe thead tr:only-child th {\n",
       "        text-align: right;\n",
       "    }\n",
       "\n",
       "    .dataframe thead th {\n",
       "        text-align: left;\n",
       "    }\n",
       "\n",
       "    .dataframe tbody tr th {\n",
       "        vertical-align: top;\n",
       "    }\n",
       "</style>\n",
       "<table border=\"1\" class=\"dataframe\">\n",
       "  <thead>\n",
       "    <tr style=\"text-align: right;\">\n",
       "      <th></th>\n",
       "      <th>state4</th>\n",
       "      <th>state3</th>\n",
       "      <th>reqInterTime</th>\n",
       "      <th>downTraffic</th>\n",
       "      <th>downTrafficDiff</th>\n",
       "      <th>downTrafficDiffAbs</th>\n",
       "    </tr>\n",
       "  </thead>\n",
       "  <tbody>\n",
       "    <tr>\n",
       "      <th>0</th>\n",
       "      <td>1</td>\n",
       "      <td>1</td>\n",
       "      <td>0.0</td>\n",
       "      <td>252044</td>\n",
       "      <td>252044</td>\n",
       "      <td>252044</td>\n",
       "    </tr>\n",
       "  </tbody>\n",
       "</table>\n",
       "</div>"
      ],
      "text/plain": [
       "   state4  state3  reqInterTime  downTraffic  downTrafficDiff  \\\n",
       "0       1       1           0.0       252044           252044   \n",
       "\n",
       "   downTrafficDiffAbs  \n",
       "0              252044  "
      ]
     },
     "execution_count": 397,
     "metadata": {},
     "output_type": "execute_result"
    }
   ],
   "source": [
    "df25[0:1]"
   ]
  },
  {
   "cell_type": "code",
   "execution_count": 398,
   "metadata": {},
   "outputs": [
    {
     "data": {
      "text/plain": [
       "(29760, 13680)"
      ]
     },
     "execution_count": 398,
     "metadata": {},
     "output_type": "execute_result"
    }
   ],
   "source": [
    "len(df),len(df25)"
   ]
  },
  {
   "cell_type": "markdown",
   "metadata": {},
   "source": [
    "# 将特征进行归一化"
   ]
  },
  {
   "cell_type": "code",
   "execution_count": 399,
   "metadata": {},
   "outputs": [],
   "source": [
    "df_scaled = preprocessing.normalize(df[['reqInterTime','downTraffic','downTrafficDiff','downTrafficDiffAbs']])\n",
    "df25_scaled = preprocessing.normalize(df25[['reqInterTime','downTraffic','downTrafficDiff','downTrafficDiffAbs']])\n",
    "\n",
    "df_train = pd.DataFrame(df_scaled, columns = ['reqInterTime','downTraffic','downTrafficDiff','downTrafficDiffAbs']) \n",
    "df_test = pd.DataFrame(df25_scaled, columns = ['reqInterTime','downTraffic','downTrafficDiff','downTrafficDiffAbs']) \n",
    "df_train['label'] = list(df['state4'])\n",
    "df_test['label'] = list(df25['state4'])\n",
    "\n",
    "cols = list(df_train)\n",
    "cols.insert(0, cols.pop(cols.index('label')))\n",
    "df_train = df_train.loc[:, cols]\n",
    "\n",
    "cols = list(df_test)\n",
    "cols.insert(0, cols.pop(cols.index('label')))\n",
    "df_test = df_test.loc[:, cols]\n",
    "\n",
    "#df_train['label'] = df_train['label'].replace([1,2,3,4],[0.1,0.2,0.3,0.4])\n",
    "#df_test['label'] = df_test['label'].replace([1,2,3,4],[0.1,0.2,0.3,0.4])"
   ]
  },
  {
   "cell_type": "code",
   "execution_count": 400,
   "metadata": {},
   "outputs": [
    {
     "data": {
      "text/html": [
       "<div>\n",
       "<style>\n",
       "    .dataframe thead tr:only-child th {\n",
       "        text-align: right;\n",
       "    }\n",
       "\n",
       "    .dataframe thead th {\n",
       "        text-align: left;\n",
       "    }\n",
       "\n",
       "    .dataframe tbody tr th {\n",
       "        vertical-align: top;\n",
       "    }\n",
       "</style>\n",
       "<table border=\"1\" class=\"dataframe\">\n",
       "  <thead>\n",
       "    <tr style=\"text-align: right;\">\n",
       "      <th></th>\n",
       "      <th>label</th>\n",
       "      <th>reqInterTime</th>\n",
       "      <th>downTraffic</th>\n",
       "      <th>downTrafficDiff</th>\n",
       "      <th>downTrafficDiffAbs</th>\n",
       "    </tr>\n",
       "  </thead>\n",
       "  <tbody>\n",
       "    <tr>\n",
       "      <th>0</th>\n",
       "      <td>1</td>\n",
       "      <td>0.0</td>\n",
       "      <td>0.57735</td>\n",
       "      <td>0.57735</td>\n",
       "      <td>0.57735</td>\n",
       "    </tr>\n",
       "  </tbody>\n",
       "</table>\n",
       "</div>"
      ],
      "text/plain": [
       "   label  reqInterTime  downTraffic  downTrafficDiff  downTrafficDiffAbs\n",
       "0      1           0.0      0.57735          0.57735             0.57735"
      ]
     },
     "execution_count": 400,
     "metadata": {},
     "output_type": "execute_result"
    }
   ],
   "source": [
    "df_train[0:1]"
   ]
  },
  {
   "cell_type": "code",
   "execution_count": 401,
   "metadata": {},
   "outputs": [
    {
     "data": {
      "text/html": [
       "<div>\n",
       "<style>\n",
       "    .dataframe thead tr:only-child th {\n",
       "        text-align: right;\n",
       "    }\n",
       "\n",
       "    .dataframe thead th {\n",
       "        text-align: left;\n",
       "    }\n",
       "\n",
       "    .dataframe tbody tr th {\n",
       "        vertical-align: top;\n",
       "    }\n",
       "</style>\n",
       "<table border=\"1\" class=\"dataframe\">\n",
       "  <thead>\n",
       "    <tr style=\"text-align: right;\">\n",
       "      <th></th>\n",
       "      <th>label</th>\n",
       "      <th>reqInterTime</th>\n",
       "      <th>downTraffic</th>\n",
       "      <th>downTrafficDiff</th>\n",
       "      <th>downTrafficDiffAbs</th>\n",
       "    </tr>\n",
       "  </thead>\n",
       "  <tbody>\n",
       "    <tr>\n",
       "      <th>0</th>\n",
       "      <td>1</td>\n",
       "      <td>0.0</td>\n",
       "      <td>0.57735</td>\n",
       "      <td>0.57735</td>\n",
       "      <td>0.57735</td>\n",
       "    </tr>\n",
       "  </tbody>\n",
       "</table>\n",
       "</div>"
      ],
      "text/plain": [
       "   label  reqInterTime  downTraffic  downTrafficDiff  downTrafficDiffAbs\n",
       "0      1           0.0      0.57735          0.57735             0.57735"
      ]
     },
     "execution_count": 401,
     "metadata": {},
     "output_type": "execute_result"
    }
   ],
   "source": [
    "df_test[0:1]"
   ]
  },
  {
   "cell_type": "markdown",
   "metadata": {},
   "source": [
    "# 构造监督数据集"
   ]
  },
  {
   "cell_type": "code",
   "execution_count": 415,
   "metadata": {},
   "outputs": [],
   "source": [
    "train = df_train.values.astype('float16')\n",
    "test = df_test.values.astype('float16')\n",
    "#设置“输入数据回看”的步数\n",
    "look_back = 5\n",
    "trainX = []\n",
    "testX = []\n",
    "trainY = []\n",
    "testY = []\n",
    "\n",
    "for i in range(len(train)-look_back-1):\n",
    "    traintmp = train[i:(i+look_back),0:]\n",
    "    trainX.append(traintmp)\n",
    "    trainY.append(train[i+look_back,0])\n",
    "    \n",
    "trainX = np.reshape(trainX, (len(trainX), look_back, 5))\n",
    "trainY = np.reshape(trainY, (len(trainY),1))\n",
    "\n",
    "for i in range(len(test)-look_back-1):\n",
    "    testmp = test[i:(i+look_back),0:]\n",
    "    testX.append(testmp)\n",
    "    testY.append(test[i+look_back,0])\n",
    "    \n",
    "testX = np.reshape(testX, (len(testX), look_back, 5))\n",
    "testY = np.reshape(testY, (len(testY),1))"
   ]
  },
  {
   "cell_type": "code",
   "execution_count": 416,
   "metadata": {},
   "outputs": [
    {
     "name": "stdout",
     "output_type": "stream",
     "text": [
      "(29754, 5, 5) (29754, 1)\n",
      "[[[1.00e+00 0.00e+00 5.77e-01 5.77e-01 5.77e-01]\n",
      "  [1.00e+00 3.81e-06 5.77e-01 5.77e-01 5.77e-01]\n",
      "  [1.00e+00 3.81e-06 5.77e-01 5.77e-01 5.77e-01]\n",
      "  [1.00e+00 3.46e-06 5.77e-01 5.77e-01 5.77e-01]\n",
      "  [1.00e+00 3.46e-06 5.77e-01 5.77e-01 5.77e-01]]\n",
      "\n",
      " [[1.00e+00 3.81e-06 5.77e-01 5.77e-01 5.77e-01]\n",
      "  [1.00e+00 3.81e-06 5.77e-01 5.77e-01 5.77e-01]\n",
      "  [1.00e+00 3.46e-06 5.77e-01 5.77e-01 5.77e-01]\n",
      "  [1.00e+00 3.46e-06 5.77e-01 5.77e-01 5.77e-01]\n",
      "  [1.00e+00 3.46e-06 5.77e-01 5.77e-01 5.77e-01]]]\n",
      "[[1.]\n",
      " [1.]]\n"
     ]
    }
   ],
   "source": [
    "print(trainX.shape,trainY.shape)\n",
    "print(trainX[0:2])\n",
    "print(trainY[0:2])"
   ]
  },
  {
   "cell_type": "code",
   "execution_count": 417,
   "metadata": {},
   "outputs": [
    {
     "name": "stdout",
     "output_type": "stream",
     "text": [
      "(13674, 5, 5) (13674, 1)\n"
     ]
    }
   ],
   "source": [
    "print(testX.shape,testY.shape)\n",
    "#print(testX[0:1])\n",
    "#print(testY[0:2])"
   ]
  },
  {
   "cell_type": "code",
   "execution_count": 418,
   "metadata": {},
   "outputs": [],
   "source": [
    "#多类别标签二值化——onehot编码\n",
    "trainY_binary = preprocessing.label_binarize(trainY, classes = [1,2,3,4])\n",
    "testY_binary = preprocessing.label_binarize(testY, classes = [1,2,3,4])"
   ]
  },
  {
   "cell_type": "code",
   "execution_count": 419,
   "metadata": {},
   "outputs": [],
   "source": [
    "from keras.utils.np_utils import to_categorical\n",
    "trainY_binary_labels = to_categorical(trainY, num_classes=None)"
   ]
  },
  {
   "cell_type": "code",
   "execution_count": 420,
   "metadata": {},
   "outputs": [],
   "source": [
    "from keras.callbacks import Callback\n",
    "from sklearn.metrics import f1_score, precision_score, recall_score"
   ]
  },
  {
   "cell_type": "code",
   "execution_count": 421,
   "metadata": {},
   "outputs": [],
   "source": [
    "class Metrics(Callback):\n",
    "    def on_train_begin(self, logs={}):\n",
    "        self.val_f1s = []\n",
    "        self.val_recalls = []\n",
    "        self.val_precisions = []\n",
    "\n",
    "    def on_epoch_end(self, epoch, logs={}):\n",
    "        #val_predict = (np.asarray(self.model.predict(self.validation_data[0]))).round()\n",
    "        val_predict = np.argmax(np.asarray(self.model.predict(self.validation_data[0])), axis=1)\n",
    "        #val_targ = self.validation_data[1]\n",
    "        val_targ = np.argmax(self.validation_data[1], axis=1)\n",
    "        _val_f1 = f1_score(val_targ, val_predict, average='macro')\n",
    "        _val_recall = recall_score(val_targ, val_predict, average='macro')\n",
    "        _val_precision = precision_score(val_targ, val_predict, average='macro')\n",
    "        self.val_f1s.append(_val_f1)\n",
    "        self.val_recalls.append(_val_recall)\n",
    "        self.val_precisions.append(_val_precision)\n",
    "        #print('— val_f1: %f — val_precision: %f — val_recall %f' %(_val_f1, _val_precision, _val_recall))\n",
    "        return"
   ]
  },
  {
   "cell_type": "code",
   "execution_count": 422,
   "metadata": {},
   "outputs": [
    {
     "name": "stdout",
     "output_type": "stream",
     "text": [
      "Train on 29754 samples, validate on 13674 samples\n",
      "Epoch 1/5\n",
      "29754/29754 [==============================] - 22s 731us/step - loss: 0.1386 - acc: 0.9641 - val_loss: 0.1297 - val_acc: 0.9693\n",
      "Epoch 2/5\n",
      "29754/29754 [==============================] - 22s 755us/step - loss: 0.0702 - acc: 0.9844 - val_loss: 0.1047 - val_acc: 0.9720\n",
      "Epoch 3/5\n",
      "29754/29754 [==============================] - 21s 692us/step - loss: 0.0577 - acc: 0.9884 - val_loss: 0.0894 - val_acc: 0.9829\n",
      "Epoch 4/5\n",
      "29754/29754 [==============================] - 22s 731us/step - loss: 0.0523 - acc: 0.9899 - val_loss: 0.0815 - val_acc: 0.9829\n",
      "Epoch 5/5\n",
      "29754/29754 [==============================] - 21s 706us/step - loss: 0.0500 - acc: 0.9904 - val_loss: 0.0788 - val_acc: 0.9833\n",
      "13674/13674 [==============================] - 2s 150us/step\n",
      "Test loss: 0.07881283699481027\n",
      "Test accuracy: 0.9833260201842914\n",
      "Test precision: 0.9686648632258553\n",
      "Test recall: 0.9673706763316239\n"
     ]
    }
   ],
   "source": [
    "metrics = Metrics()\n",
    "\n",
    "model = Sequential()\n",
    "#model.add(LSTM(128, dropout = 0.2, activation='tanh', input_shape=(trainX.shape[1],trainX.shape[2])))\n",
    "model.add(LSTM(256,input_shape=(trainX.shape[1],trainX.shape[2])))\n",
    "#model.add(Dense(trainY.shape[1], activation='relu'))\n",
    "model.add(Dense(4, activation='softmax'))\n",
    "#model.add(Dense(1))\n",
    "model.compile(\n",
    "            loss = 'categorical_crossentropy', \n",
    "            optimizer = 'adam', \n",
    "            metrics = ['accuracy'])\n",
    "history = model.fit(\n",
    "            trainX, \n",
    "            trainY_binary, \n",
    "            class_weight = 'auto',\n",
    "            epochs = 5, \n",
    "            batch_size = 16, \n",
    "            verbose = 1,\n",
    "            validation_data = (testX, testY_binary),\n",
    "            callbacks = [metrics])\n",
    "\n",
    "score = model.evaluate(testX, testY_binary, batch_size = 16)\n",
    "print('Test loss:', score[0])\n",
    "print('Test accuracy:', score[1])\n",
    "print('Test precision:', metrics.val_precisions[-1])\n",
    "print('Test recall:', metrics.val_recalls[-1])\n",
    "\n",
    "#绘制acc-loss曲线\n",
    "#history.loss_plot('epoch')"
   ]
  },
  {
   "cell_type": "markdown",
   "metadata": {},
   "source": [
    "# 召回、f1分数"
   ]
  },
  {
   "cell_type": "code",
   "execution_count": 423,
   "metadata": {},
   "outputs": [],
   "source": [
    "#softmax结果转换成onehot编码\n",
    "def props_to_onehot(props):\n",
    "    if isinstance(props, list):\n",
    "        props = np.array(props)\n",
    "    a = np.argmax(props, axis=1)\n",
    "    b = np.zeros((len(a), props.shape[1]))\n",
    "    b[np.arange(len(a)), a] = 1\n",
    "    return b"
   ]
  },
  {
   "cell_type": "code",
   "execution_count": 424,
   "metadata": {},
   "outputs": [
    {
     "name": "stdout",
     "output_type": "stream",
     "text": [
      "13674/13674 [==============================] - 2s 144us/step\n",
      "\n",
      "\n",
      "             precision    recall  f1-score   support\n",
      "\n",
      "         CL       0.98      0.98      0.98      1196\n",
      "         SW       0.99      0.99      0.99     10398\n",
      "         CE       0.92      0.94      0.93      1387\n",
      "         EM       0.98      0.96      0.97       692\n",
      "\n",
      "avg / total       0.98      0.98      0.98     13673\n",
      "\n"
     ]
    }
   ],
   "source": [
    "#调用sklearn\n",
    "predictions_last_epoch = model.predict(testX, batch_size = 16, verbose=1)\n",
    "predictions_last_epoch = props_to_onehot(predictions_last_epoch)\n",
    "target_names = ['CL', 'SW', 'CE', 'EM']\n",
    "print('\\n')\n",
    "print(classification_report(testY_binary, predictions_last_epoch, target_names = target_names))"
   ]
  },
  {
   "cell_type": "code",
   "execution_count": 389,
   "metadata": {},
   "outputs": [
    {
     "name": "stdout",
     "output_type": "stream",
     "text": [
      "13674 13674\n"
     ]
    }
   ],
   "source": [
    "print((len(testY_binary)),len(predictions_last_epoch))"
   ]
  },
  {
   "cell_type": "code",
   "execution_count": 390,
   "metadata": {},
   "outputs": [
    {
     "data": {
      "image/png": "[encoded data removed]",
      "text/plain": [
       "<Figure size 432x288 with 1 Axes>"
      ]
     },
     "metadata": {},
     "output_type": "display_data"
    }
   ],
   "source": [
    "fig = plt.figure()\n",
    "plt.plot(history.history['acc'])\n",
    "plt.plot(history.history['val_acc'])\n",
    "plt.title('model accuracy')\n",
    "plt.ylabel('accuracy')\n",
    "plt.xlabel('epoch')\n",
    "plt.legend(['train', 'test'], loc = 'upper left')\n",
    "plt.savefig(\"/Users/dave/Desktop/毕业论文/model accuracy.jpg\",dpi=600)\n",
    "plt.show()"
   ]
  },
  {
   "cell_type": "code",
   "execution_count": 391,
   "metadata": {},
   "outputs": [
    {
     "data": {
      "image/png": "[encoded data removed]",
      "text/plain": [
       "<Figure size 432x288 with 1 Axes>"
      ]
     },
     "metadata": {},
     "output_type": "display_data"
    }
   ],
   "source": [
    "plt.plot(history.history['loss'])\n",
    "plt.plot(history.history['val_loss'])\n",
    "plt.title('model loss')\n",
    "plt.ylabel('loss')\n",
    "plt.xlabel('epoch')\n",
    "plt.legend(['train','test'], loc = 'lower left')\n",
    "plt.savefig(\"/Users/dave/Desktop/毕业论文/model loss.jpg\",dpi=600)\n",
    "plt.show()"
   ]
  },
  {
   "cell_type": "code",
   "execution_count": 526,
   "metadata": {},
   "outputs": [],
   "source": [
    "preData = [(np.argmax(one_hot)+1) for one_hot in predictions_last_epoch]\n",
    "trueData = [(np.argmax(one_hot)+1) for one_hot in testY_binary] \n",
    "time = np.arange(0,2395)"
   ]
  },
  {
   "cell_type": "code",
   "execution_count": 527,
   "metadata": {},
   "outputs": [
    {
     "name": "stdout",
     "output_type": "stream",
     "text": [
      "2395 2395\n"
     ]
    }
   ],
   "source": [
    "print((len(preData)),len(trueData))"
   ]
  },
  {
   "cell_type": "code",
   "execution_count": 528,
   "metadata": {},
   "outputs": [],
   "source": [
    "# 统计两个数字中，相同位置值不同的个数\n",
    "# 把预测错的值取出来\n",
    "n=0\n",
    "num = []\n",
    "preDataWrong = []\n",
    "trueDataTrue = []\n",
    "for i in range(0,len(preData)):\n",
    "    if preData[i] != trueData[i]:\n",
    "        num.append(i)\n",
    "        preDataWrong.append(preData[i])\n",
    "        trueDataTrue.append(trueData[i])\n",
    "        n+=1"
   ]
  },
  {
   "cell_type": "code",
   "execution_count": 529,
   "metadata": {},
   "outputs": [
    {
     "name": "stdout",
     "output_type": "stream",
     "text": [
      "36\n",
      "[9, 26, 146, 154, 274, 282, 290, 297, 771, 786, 995, 1018, 1090, 1098, 1107, 1114, 1298, 1306, 1314, 1322, 1731, 1746, 1866, 1963, 2098, 2107, 2114, 2154, 2163, 2170, 2178, 2187, 2195, 2202, 2210, 2251]\n",
      "[1, 3, 2, 3, 2, 3, 2, 3, 2, 3, 4, 1, 2, 3, 2, 3, 2, 3, 2, 3, 2, 3, 4, 1, 2, 3, 2, 3, 2, 3, 2, 3, 2, 3, 2, 3]\n",
      "[3, 2, 3, 2, 3, 2, 3, 2, 3, 4, 1, 2, 3, 2, 3, 2, 3, 2, 3, 2, 3, 4, 1, 2, 3, 2, 3, 2, 3, 2, 3, 2, 3, 2, 3, 2]\n"
     ]
    }
   ],
   "source": [
    "print(n)\n",
    "print(num)\n",
    "print(preDataWrong)\n",
    "print(trueDataTrue)"
   ]
  },
  {
   "cell_type": "code",
   "execution_count": 530,
   "metadata": {},
   "outputs": [
    {
     "data": {
      "image/png": "[encoded data removed]",
      "text/plain": [
       "<Figure size 432x288 with 1 Axes>"
      ]
     },
     "metadata": {},
     "output_type": "display_data"
    }
   ],
   "source": [
    "plt.plot(time,preData,'r.',time,trueData,'b-')\n",
    "plt.draw()\n",
    "plt.savefig(\"predict\",dpi=600)\n",
    "plt.show()"
   ]
  },
  {
   "cell_type": "code",
   "execution_count": 531,
   "metadata": {},
   "outputs": [],
   "source": [
    "import plotly as py\n",
    "import plotly.graph_objs as go"
   ]
  },
  {
   "cell_type": "code",
   "execution_count": 532,
   "metadata": {},
   "outputs": [],
   "source": [
    "pyplt = py.offline.plot\n",
    "predict = go.Scatter(\n",
    "    x = time, \n",
    "    y = preData,\n",
    "    name = 'predict'\n",
    ")\n",
    "true = go.Scatter(\n",
    "    x = time, \n",
    "    y = trueData,\n",
    "    mode = 'markers',\n",
    "    name = 'true'\n",
    ")\n",
    "predictWrong = go.Scatter(\n",
    "    x = num, \n",
    "    y = preDataWrong,\n",
    "    mode = 'markers',\n",
    "    name = 'predictWrong'\n",
    ")\n",
    "trueValue  = go.Scatter(\n",
    "    x = num, \n",
    "    y = trueDataTrue,\n",
    "    mode = 'markers',\n",
    "    name = 'trueValue'\n",
    ")\n",
    "\n",
    "data = [predict, true, predictWrong, trueValue]\n",
    "layout = go.Layout(\n",
    "    title = 'Y轴',\n",
    "    yaxis = dict(\n",
    "        title = 'predict'\n",
    "    ),\n",
    "    yaxis2 = dict(\n",
    "        title = 'true',\n",
    "        color = '#ffa631',\n",
    "        anchor = 'free',\n",
    "        overlaying = 'y',\n",
    "        side = 'left',\n",
    "        position = 0.04 \n",
    "    ),\n",
    "    yaxis3 = dict(\n",
    "        title = 'predictWrong',\n",
    "        color = '#75878a',\n",
    "        anchor = 'x',\n",
    "        overlaying = 'y',\n",
    "        side = 'right'\n",
    "    ),\n",
    "     yaxis4 = dict(\n",
    "        title = 'trueValue',\n",
    "        color = '#00e500',\n",
    "        anchor = 'free',\n",
    "        overlaying = 'y',\n",
    "        side = 'right',\n",
    "        position = 0.95\n",
    "    )\n",
    ")\n",
    "fig = go.Figure(data = data, layout=layout)\n",
    "plot_url = pyplt(fig, filename='ceshi.html')"
   ]
  },
  {
   "cell_type": "code",
   "execution_count": null,
   "metadata": {},
   "outputs": [],
   "source": []
  }
 ],
 "metadata": {
  "kernelspec": {
   "display_name": "Python 3",
   "language": "python",
   "name": "python3"
  },
  "language_info": {
   "codemirror_mode": {
    "name": "ipython",
    "version": 3
   },
   "file_extension": ".py",
   "mimetype": "text/x-python",
   "name": "python",
   "nbconvert_exporter": "python",
   "pygments_lexer": "ipython3",
   "version": "3.6.3"
  }
 },
 "nbformat": 4,
 "nbformat_minor": 2
}
